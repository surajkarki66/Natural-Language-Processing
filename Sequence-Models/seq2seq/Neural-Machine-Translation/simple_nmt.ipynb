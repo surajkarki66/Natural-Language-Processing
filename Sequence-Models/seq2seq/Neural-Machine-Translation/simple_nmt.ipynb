{
  "cells": [
    {
      "cell_type": "markdown",
      "source": [
        "# Spanish to Engish:  Machine Translation"
      ],
      "metadata": {
        "id": "du_iCsRe48wZ"
      }
    },
    {
      "cell_type": "code",
      "source": [
        "from google.colab import drive\n",
        "drive.mount(\"/content/drive/\", force_remount=True)"
      ],
      "metadata": {
        "colab": {
          "base_uri": "https://localhost:8080/"
        },
        "id": "cPp16dD988jU",
        "outputId": "01590230-ad8f-4712-c9f1-207312192ec8"
      },
      "execution_count": 36,
      "outputs": [
        {
          "output_type": "stream",
          "name": "stdout",
          "text": [
            "Mounted at /content/drive/\n"
          ]
        }
      ]
    },
    {
      "cell_type": "markdown",
      "source": [
        "## 1. Imports"
      ],
      "metadata": {
        "id": "mxpQG6AT5O7s"
      }
    },
    {
      "cell_type": "code",
      "source": [
        "import string\n",
        "import tensorflow as tf\n",
        "import numpy as np\n",
        "\n",
        "from tensorflow.keras.preprocessing.text import Tokenizer\n",
        "from tensorflow.keras.preprocessing.sequence import pad_sequences\n",
        "from tensorflow.keras.models import Model\n",
        "from tensorflow.keras.layers import LSTM, Input, TimeDistributed, Dense, Activation, RepeatVector, Embedding\n",
        "from tensorflow.keras.optimizers import Adam\n",
        "from tensorflow.keras.losses import sparse_categorical_crossentropy"
      ],
      "metadata": {
        "id": "VUH6lbm05HXW"
      },
      "execution_count": 37,
      "outputs": []
    },
    {
      "cell_type": "markdown",
      "metadata": {
        "id": "D4XiqxiY_Lmj"
      },
      "source": [
        "## 2. Data Preparation"
      ]
    },
    {
      "cell_type": "code",
      "execution_count": 38,
      "metadata": {
        "id": "hCPD2WcSxmgG"
      },
      "outputs": [],
      "source": [
        "# Path to translation file\n",
        "path_to_data = '/content/drive/MyDrive/Datasets/spanish/spa.txt'\n",
        "\n",
        "# Read file\n",
        "translation_file = open(path_to_data,\"r\", encoding='utf-8')\n",
        "raw_data = translation_file.read()\n",
        "translation_file.close()\n",
        "\n",
        "# Parse data\n",
        "raw_data = raw_data.split('\\n')\n",
        "pairs = [sentence.split('\\t') for sentence in  raw_data]"
      ]
    },
    {
      "cell_type": "code",
      "source": [
        "len(pairs)\n",
        "data_paris = pairs[:141367]"
      ],
      "metadata": {
        "id": "_4Oem2RNDE8q"
      },
      "execution_count": 39,
      "outputs": []
    },
    {
      "cell_type": "markdown",
      "source": [
        "Text Cleaning"
      ],
      "metadata": {
        "id": "7zabLQj79z5D"
      }
    },
    {
      "cell_type": "code",
      "execution_count": 40,
      "metadata": {
        "id": "AbxUjjqvxOgJ"
      },
      "outputs": [],
      "source": [
        "def clean_sentence(sentence):\n",
        "    # Lower case the sentence\n",
        "    lower_case_sent = sentence.lower()\n",
        "    # Strip punctuation\n",
        "    string_punctuation = string.punctuation + \"¡\" + '¿'\n",
        "    clean_sentence = lower_case_sent.translate(str.maketrans('', '', string_punctuation))\n",
        "\n",
        "    return clean_sentence"
      ]
    },
    {
      "cell_type": "markdown",
      "source": [
        "Next, we tokenize the sentences and analyse the data."
      ],
      "metadata": {
        "id": "eDVHFbT-99GO"
      }
    },
    {
      "cell_type": "code",
      "source": [
        "def tokenize(sentences):\n",
        "    # Create tokenizer\n",
        "    text_tokenizer = Tokenizer()\n",
        "\n",
        "    # Fit texts\n",
        "    text_tokenizer.fit_on_texts(sentences)\n",
        "    return text_tokenizer.texts_to_sequences(sentences), text_tokenizer"
      ],
      "metadata": {
        "id": "4f70TRPr993z"
      },
      "execution_count": 41,
      "outputs": []
    },
    {
      "cell_type": "markdown",
      "source": [
        "Once we are done with creating the functions we can do the pre-processing:"
      ],
      "metadata": {
        "id": "zqskKvkx-HWW"
      }
    },
    {
      "cell_type": "code",
      "source": [
        "# Clean sentences\n",
        "english_sentences = [clean_sentence(pair[0]) for pair in data_paris]\n",
        "spanish_sentences = [clean_sentence(pair[1]) for pair in data_paris]\n",
        "\n",
        "# Tokenize words\n",
        "spa_text_tokenized, spa_text_tokenizer = tokenize(spanish_sentences)\n",
        "eng_text_tokenized, eng_text_tokenizer = tokenize(english_sentences)\n",
        "\n",
        "print('Maximum length spanish sentence: {}'.format(len(max(spa_text_tokenized,key=len))))\n",
        "print('Maximum length english sentence: {}'.format(len(max(eng_text_tokenized,key=len))))\n",
        "\n",
        "\n",
        "# Check language length\n",
        "spanish_vocab = len(spa_text_tokenizer.word_index) + 1\n",
        "english_vocab = len(eng_text_tokenizer.word_index) + 1\n",
        "\n",
        "print(\"Spanish vocabulary is of {} unique words\".format(spanish_vocab))\n",
        "print(\"English vocabulary is of {} unique words\".format(english_vocab))"
      ],
      "metadata": {
        "colab": {
          "base_uri": "https://localhost:8080/"
        },
        "id": "xK2b3fZN-Kyi",
        "outputId": "7c9a84da-201c-4755-84ab-f2cdfb51b2cb"
      },
      "execution_count": 42,
      "outputs": [
        {
          "output_type": "stream",
          "name": "stdout",
          "text": [
            "Maximum length spanish sentence: 44\n",
            "Maximum length english sentence: 43\n",
            "Spanish vocabulary is of 28294 unique words\n",
            "English vocabulary is of 14504 unique words\n"
          ]
        }
      ]
    },
    {
      "cell_type": "markdown",
      "source": [
        "We apply padding to make the maximum length of the sentences in each language equal."
      ],
      "metadata": {
        "id": "AFnH8K_T-ggf"
      }
    },
    {
      "cell_type": "code",
      "source": [
        "max_spanish_len = int(len(max(spa_text_tokenized,key=len)))\n",
        "max_english_len = int(len(max(eng_text_tokenized,key=len)))\n",
        "\n",
        "spa_pad_sentence = pad_sequences(spa_text_tokenized, max_spanish_len, padding = \"post\")\n",
        "eng_pad_sentence = pad_sequences(eng_text_tokenized, max_english_len, padding = \"post\")\n",
        "\n",
        "# Reshape data\n",
        "spa_pad_sentence = spa_pad_sentence.reshape(*spa_pad_sentence.shape, 1)\n",
        "eng_pad_sentence = eng_pad_sentence.reshape(*eng_pad_sentence.shape, 1)"
      ],
      "metadata": {
        "id": "mOMJ75OR-iOF"
      },
      "execution_count": 43,
      "outputs": []
    },
    {
      "cell_type": "code",
      "source": [
        "spa_pad_sentence.shape"
      ],
      "metadata": {
        "colab": {
          "base_uri": "https://localhost:8080/"
        },
        "id": "6cUo1_HP-2XR",
        "outputId": "a540d020-9b2b-4a96-9e7e-f54ab0453663"
      },
      "execution_count": 44,
      "outputs": [
        {
          "output_type": "execute_result",
          "data": {
            "text/plain": [
              "(141367, 44, 1)"
            ]
          },
          "metadata": {},
          "execution_count": 44
        }
      ]
    },
    {
      "cell_type": "code",
      "source": [
        "eng_pad_sentence.shape"
      ],
      "metadata": {
        "colab": {
          "base_uri": "https://localhost:8080/"
        },
        "id": "ifxsYYLj_AzK",
        "outputId": "4294d9c3-f092-4c06-e92a-e69f9d6ab129"
      },
      "execution_count": 45,
      "outputs": [
        {
          "output_type": "execute_result",
          "data": {
            "text/plain": [
              "(141367, 43, 1)"
            ]
          },
          "metadata": {},
          "execution_count": 45
        }
      ]
    },
    {
      "cell_type": "code",
      "source": [
        "from sklearn.model_selection import train_test_split\n",
        "spa_train, spa_test, eng_train, eng_test = train_test_split(spa_pad_sentence, eng_pad_sentence, test_size=0.2, random_state=42)"
      ],
      "metadata": {
        "id": "0wJ1yqG0FNwt"
      },
      "execution_count": 46,
      "outputs": []
    },
    {
      "cell_type": "code",
      "source": [
        "print(spa_train.shape)\n",
        "print(spa_test.shape)\n",
        "print(eng_train.shape)\n",
        "print(eng_test.shape)"
      ],
      "metadata": {
        "colab": {
          "base_uri": "https://localhost:8080/"
        },
        "id": "n-RTjM_nFiCB",
        "outputId": "b74c4946-3565-48c9-b199-7341dad7e8d2"
      },
      "execution_count": 47,
      "outputs": [
        {
          "output_type": "stream",
          "name": "stdout",
          "text": [
            "(113093, 44, 1)\n",
            "(28274, 44, 1)\n",
            "(113093, 43, 1)\n",
            "(28274, 43, 1)\n"
          ]
        }
      ]
    },
    {
      "cell_type": "markdown",
      "metadata": {
        "id": "72xOE6nDA0Wm"
      },
      "source": [
        "## 3. Model Development"
      ]
    },
    {
      "cell_type": "markdown",
      "source": [
        "### a. Encoder\n",
        "![image](https://miro.medium.com/v2/resize:fit:640/format:webp/1*7eMDChm9Q-VR3ZpMWY7N8w.png)"
      ],
      "metadata": {
        "id": "Wv7xC3Tz_Vzt"
      }
    },
    {
      "cell_type": "markdown",
      "source": [
        "### b. Decoder\n",
        "![image](https://miro.medium.com/v2/resize:fit:720/format:webp/1*n6AK9f09yZQdvC2c7P5LNQ.png)"
      ],
      "metadata": {
        "id": "kuJkyYKRALxf"
      }
    },
    {
      "cell_type": "code",
      "execution_count": 48,
      "metadata": {
        "id": "Sk3wn4nq-Zu5"
      },
      "outputs": [],
      "source": [
        "# Encoder\n",
        "input_sequence = Input(shape=(max_spanish_len,))\n",
        "embedding = Embedding(input_dim=spanish_vocab, output_dim=128,)(input_sequence)\n",
        "encoder = LSTM(64, return_sequences=False)(embedding)\n",
        "\n",
        "# Decoder\n",
        "r_vec = RepeatVector(max_english_len)(encoder)\n",
        "decoder = LSTM(64, return_sequences=True, dropout=0.2)(r_vec)\n",
        "logits = TimeDistributed(Dense(english_vocab))(decoder)\n",
        "last = Activation('softmax')(logits)"
      ]
    },
    {
      "cell_type": "code",
      "execution_count": 49,
      "metadata": {
        "id": "uY3UxWDI-ZvC",
        "colab": {
          "base_uri": "https://localhost:8080/"
        },
        "outputId": "4e5ca44b-0b79-4a25-e5c0-9a6c0023b477"
      },
      "outputs": [
        {
          "output_type": "stream",
          "name": "stdout",
          "text": [
            "Model: \"model_1\"\n",
            "_________________________________________________________________\n",
            " Layer (type)                Output Shape              Param #   \n",
            "=================================================================\n",
            " input_2 (InputLayer)        [(None, 44)]              0         \n",
            "                                                                 \n",
            " embedding_1 (Embedding)     (None, 44, 128)           3621632   \n",
            "                                                                 \n",
            " lstm_2 (LSTM)               (None, 64)                49408     \n",
            "                                                                 \n",
            " repeat_vector_1 (RepeatVec  (None, 43, 64)            0         \n",
            " tor)                                                            \n",
            "                                                                 \n",
            " lstm_3 (LSTM)               (None, 43, 64)            33024     \n",
            "                                                                 \n",
            " time_distributed_1 (TimeDi  (None, 43, 14504)         942760    \n",
            " stributed)                                                      \n",
            "                                                                 \n",
            " activation_1 (Activation)   (None, 43, 14504)         0         \n",
            "                                                                 \n",
            "=================================================================\n",
            "Total params: 4646824 (17.73 MB)\n",
            "Trainable params: 4646824 (17.73 MB)\n",
            "Non-trainable params: 0 (0.00 Byte)\n",
            "_________________________________________________________________\n"
          ]
        }
      ],
      "source": [
        "enc_dec_model = Model(input_sequence, last)\n",
        "enc_dec_model.compile(loss=sparse_categorical_crossentropy, optimizer=Adam(1e-3), metrics=['accuracy'])\n",
        "enc_dec_model.summary()"
      ]
    },
    {
      "cell_type": "code",
      "execution_count": 51,
      "metadata": {
        "id": "d7JLhP7H-ZvH",
        "colab": {
          "base_uri": "https://localhost:8080/"
        },
        "outputId": "0222cc52-204c-45b5-b06c-43085328341a"
      },
      "outputs": [
        {
          "output_type": "stream",
          "name": "stdout",
          "text": [
            "Epoch 1/10\n",
            "1768/1768 [==============================] - 102s 57ms/step - loss: 1.0036 - accuracy: 0.8604 - val_loss: 0.9833 - val_accuracy: 0.8616\n",
            "Epoch 2/10\n",
            "1768/1768 [==============================] - 91s 51ms/step - loss: 0.9809 - accuracy: 0.8614 - val_loss: 0.9782 - val_accuracy: 0.8616\n",
            "Epoch 3/10\n",
            "1768/1768 [==============================] - 89s 50ms/step - loss: 0.9765 - accuracy: 0.8615 - val_loss: 0.9772 - val_accuracy: 0.8616\n",
            "Epoch 4/10\n",
            "1768/1768 [==============================] - 91s 51ms/step - loss: 0.9742 - accuracy: 0.8614 - val_loss: 0.9766 - val_accuracy: 0.8616\n",
            "Epoch 5/10\n",
            "1768/1768 [==============================] - 81s 46ms/step - loss: 0.9725 - accuracy: 0.8614 - val_loss: 0.9761 - val_accuracy: 0.8616\n",
            "Epoch 6/10\n",
            "1768/1768 [==============================] - 90s 51ms/step - loss: 0.9713 - accuracy: 0.8614 - val_loss: 0.9763 - val_accuracy: 0.8616\n",
            "Epoch 7/10\n",
            "1768/1768 [==============================] - 91s 51ms/step - loss: 0.9311 - accuracy: 0.8631 - val_loss: 0.9051 - val_accuracy: 0.8644\n",
            "Epoch 8/10\n",
            "1768/1768 [==============================] - 91s 52ms/step - loss: 0.8925 - accuracy: 0.8647 - val_loss: 0.8996 - val_accuracy: 0.8647\n",
            "Epoch 9/10\n",
            "1768/1768 [==============================] - 91s 51ms/step - loss: 0.8824 - accuracy: 0.8652 - val_loss: 0.8909 - val_accuracy: 0.8655\n",
            "Epoch 10/10\n",
            "1768/1768 [==============================] - 92s 52ms/step - loss: 0.8506 - accuracy: 0.8680 - val_loss: 0.8543 - val_accuracy: 0.8688\n"
          ]
        }
      ],
      "source": [
        "model_results = enc_dec_model.fit(spa_train, eng_train, batch_size=64, epochs=10, validation_data=(spa_test, eng_test))"
      ]
    },
    {
      "cell_type": "markdown",
      "source": [
        "Plot the accuracy"
      ],
      "metadata": {
        "id": "nr3lTFcpG_we"
      }
    },
    {
      "cell_type": "code",
      "source": [
        "import matplotlib.pyplot as plt\n",
        "\n",
        "plt.plot(model_results.history[\"accuracy\"], label=\"training accuracy\")\n",
        "plt.plot(model_results.history[\"val_accuracy\"], label=\"validation accuracy\")\n",
        "plt.legend()\n",
        "plt.show()"
      ],
      "metadata": {
        "colab": {
          "base_uri": "https://localhost:8080/",
          "height": 430
        },
        "id": "HDCZ5StFF8Iw",
        "outputId": "5cedd2cc-c056-44c3-fd04-3112360fed19"
      },
      "execution_count": 52,
      "outputs": [
        {
          "output_type": "display_data",
          "data": {
            "text/plain": [
              "<Figure size 640x480 with 1 Axes>"
            ],
            "image/png": "[encoded data removed]"
          },
          "metadata": {}
        }
      ]
    },
    {
      "cell_type": "markdown",
      "source": [
        "Plot the loss"
      ],
      "metadata": {
        "id": "Cotcn9foHV8c"
      }
    },
    {
      "cell_type": "code",
      "source": [
        "plt.plot(model_results.history[\"loss\"], label=\"training loss\")\n",
        "plt.plot(model_results.history[\"val_loss\"], label=\"validation loss\")\n",
        "plt.legend()\n",
        "plt.show()"
      ],
      "metadata": {
        "colab": {
          "base_uri": "https://localhost:8080/",
          "height": 430
        },
        "id": "--eV_HIdHUVy",
        "outputId": "07d2f5e4-f048-48f7-b15c-67ef6c52fe12"
      },
      "execution_count": 53,
      "outputs": [
        {
          "output_type": "display_data",
          "data": {
            "text/plain": [
              "<Figure size 640x480 with 1 Axes>"
            ],
            "image/png": "[encoded data removed]"
          },
          "metadata": {}
        }
      ]
    },
    {
      "cell_type": "code",
      "source": [
        "y_pred = enc_dec_model.evaluate(spa_test, eng_test)"
      ],
      "metadata": {
        "colab": {
          "base_uri": "https://localhost:8080/"
        },
        "id": "NZieCO9lIO3G",
        "outputId": "95dec0a9-22e0-488b-f744-f76253de812c"
      },
      "execution_count": 54,
      "outputs": [
        {
          "output_type": "stream",
          "name": "stdout",
          "text": [
            "884/884 [==============================] - 21s 24ms/step - loss: 0.8543 - accuracy: 0.8688\n"
          ]
        }
      ]
    },
    {
      "cell_type": "code",
      "source": [
        "def logits_to_sentence(logits, tokenizer):\n",
        "\n",
        "    index_to_words = {idx: word for word, idx in tokenizer.word_index.items()}\n",
        "    index_to_words[0] = '<empty>'\n",
        "\n",
        "    return ' '.join([index_to_words[prediction] for prediction in np.argmax(logits, 1)])\n",
        "\n",
        "index = 34534\n",
        "print(\"The english sentence is: {}\".format(english_sentences[index]))\n",
        "print(\"The spanish sentence is: {}\".format(spanish_sentences[index]))\n",
        "print('The predicted sentence is :')\n",
        "print(logits_to_sentence(enc_dec_model.predict(spa_pad_sentence[index:index+1])[0], eng_text_tokenizer))"
      ],
      "metadata": {
        "colab": {
          "base_uri": "https://localhost:8080/"
        },
        "id": "ls4nNoiCIuHR",
        "outputId": "4ace50bb-1d10-4b81-a167-d1962546f8d5"
      },
      "execution_count": 79,
      "outputs": [
        {
          "output_type": "stream",
          "name": "stdout",
          "text": [
            "The english sentence is: i have to dry my hair\n",
            "The spanish sentence is: me tengo que secar el pelo\n",
            "The predicted sentence is :\n",
            "1/1 [==============================] - 0s 59ms/step\n",
            "i you to a the <empty> <empty> <empty> <empty> <empty> <empty> <empty> <empty> <empty> <empty> <empty> <empty> <empty> <empty> <empty> <empty> <empty> <empty> <empty> <empty> <empty> <empty> <empty> <empty> <empty> <empty> <empty> <empty> <empty> <empty> <empty> <empty> <empty> <empty> <empty> <empty> <empty> <empty>\n"
          ]
        }
      ]
    },
    {
      "cell_type": "markdown",
      "source": [
        "The result is not good because we did not train the model enough due to time constraint. Here, our focus is how to implement the architecture not performance."
      ],
      "metadata": {
        "id": "zGewZkxRLphN"
      }
    },
    {
      "cell_type": "code",
      "source": [],
      "metadata": {
        "id": "HXQzYqvEI0-k"
      },
      "execution_count": null,
      "outputs": []
    }
  ],
  "metadata": {
    "accelerator": "GPU",
    "colab": {
      "provenance": []
    },
    "kernelspec": {
      "display_name": "Python 3",
      "language": "python",
      "name": "python3"
    },
    "language_info": {
      "codemirror_mode": {
        "name": "ipython",
        "version": 3
      },
      "file_extension": ".py",
      "mimetype": "text/x-python",
      "name": "python",
      "nbconvert_exporter": "python",
      "pygments_lexer": "ipython3",
      "version": "3.8.5"
    }
  },
  "nbformat": 4,
  "nbformat_minor": 0
}