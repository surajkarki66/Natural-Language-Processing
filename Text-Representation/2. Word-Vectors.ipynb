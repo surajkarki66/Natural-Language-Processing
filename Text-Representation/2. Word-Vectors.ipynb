{
 "cells": [
  {
   "cell_type": "markdown",
   "id": "92a56bb6",
   "metadata": {},
   "source": [
    "## Word Vectors\n",
    "One Hot Encoding and Word Embedding are two of the most popular concept for vector representation in Natural Language Processing. In this notebook, we are going to implement word embeding concept using python."
   ]
  },
  {
   "cell_type": "markdown",
   "id": "b4573665",
   "metadata": {},
   "source": [
    "## Imports"
   ]
  },
  {
   "cell_type": "code",
   "execution_count": 1,
   "id": "840febd2",
   "metadata": {},
   "outputs": [],
   "source": [
    "!pip install --upgrade gensim -q\n",
    "!pip install matplotlib -q"
   ]
  },
  {
   "cell_type": "code",
   "execution_count": 2,
   "id": "182ce08e",
   "metadata": {},
   "outputs": [],
   "source": [
    "import gensim\n",
    "from gensim.models import word2vec\n",
    "from gensim.models.word2vec import Word2Vec\n",
    "import numpy as np\n",
    "import matplotlib.pyplot as plt\n",
    "import pandas as pd\n",
    "import spacy\n",
    "import string"
   ]
  },
  {
   "cell_type": "code",
   "execution_count": 3,
   "id": "ad2ad6c8",
   "metadata": {},
   "outputs": [
    {
     "data": {
      "text/plain": [
       "'4.3.2'"
      ]
     },
     "execution_count": 3,
     "metadata": {},
     "output_type": "execute_result"
    }
   ],
   "source": [
    "gensim.__version__"
   ]
  },
  {
   "cell_type": "code",
   "execution_count": 4,
   "id": "51023a03",
   "metadata": {},
   "outputs": [],
   "source": [
    "np.random.seed(42)"
   ]
  },
  {
   "cell_type": "markdown",
   "id": "a20a69b1",
   "metadata": {},
   "source": [
    "**Use Pretrained Word Vectors**"
   ]
  },
  {
   "cell_type": "code",
   "execution_count": 6,
   "id": "fd67eb51",
   "metadata": {},
   "outputs": [
    {
     "name": "stdout",
     "output_type": "stream",
     "text": [
      "['fasttext-wiki-news-subwords-300', 'conceptnet-numberbatch-17-06-300', 'word2vec-ruscorpora-300', 'word2vec-google-news-300', 'glove-wiki-gigaword-50', 'glove-wiki-gigaword-100', 'glove-wiki-gigaword-200', 'glove-wiki-gigaword-300', 'glove-twitter-25', 'glove-twitter-50', 'glove-twitter-100', 'glove-twitter-200', '__testing_word2vec-matrix-synopsis']\n"
     ]
    }
   ],
   "source": [
    "import gensim.downloader as api\n",
    "print(list(gensim.downloader.info()['models'].keys()))"
   ]
  },
  {
   "cell_type": "code",
   "execution_count": 29,
   "id": "0d59d661",
   "metadata": {},
   "outputs": [
    {
     "name": "stdout",
     "output_type": "stream",
     "text": [
      "[==================================================] 100.0% 758.5/758.5MB downloaded\n"
     ]
    }
   ],
   "source": [
    "wv = api.load('glove-twitter-200')"
   ]
  },
  {
   "cell_type": "code",
   "execution_count": 30,
   "id": "28aa622d",
   "metadata": {},
   "outputs": [
    {
     "data": {
      "text/plain": [
       "gensim.models.keyedvectors.KeyedVectors"
      ]
     },
     "execution_count": 30,
     "metadata": {},
     "output_type": "execute_result"
    }
   ],
   "source": [
    "type(wv)"
   ]
  },
  {
   "cell_type": "code",
   "execution_count": 31,
   "id": "5e8c2c78",
   "metadata": {},
   "outputs": [],
   "source": [
    "king_wv = wv[\"king\"]"
   ]
  },
  {
   "cell_type": "code",
   "execution_count": 32,
   "id": "4597f85c",
   "metadata": {},
   "outputs": [
    {
     "name": "stdout",
     "output_type": "stream",
     "text": [
      "(200,)\n",
      "[-3.1949e-01  1.0382e-01  2.4294e-01 -3.4845e-01 -2.3829e-01 -3.7200e-01\n",
      "  3.7950e-01 -3.0334e-01 -2.1441e-01 -4.9230e-01  9.8965e-02 -1.3791e-01\n",
      " -8.0118e-01  5.0410e-02  3.9894e-02  8.7262e-01  4.4222e-01 -3.2196e-01\n",
      "  6.5187e-01  1.1450e-01 -3.0635e-01  1.3293e-01 -6.8867e-03 -1.5688e-01\n",
      "  1.9338e-01 -2.8577e-01  2.6790e-01  2.4383e-01  1.5909e-02  7.6273e-02\n",
      "  5.8036e-01 -7.1514e-02  2.0632e-01 -3.0900e-01  3.0187e-01  1.2900e-01\n",
      " -1.4297e-01 -7.9204e-02  2.5754e-01 -5.9380e-01 -1.2120e-03  3.0647e-01\n",
      "  8.3300e-01 -5.4968e-02  1.3717e-01 -1.1724e-01  2.8900e-01  2.3425e-01\n",
      "  3.5452e-01  1.3312e-01 -1.4014e-01 -1.0090e+00  2.1142e-01  5.3368e-01\n",
      "  1.3168e-01 -1.3271e-01  2.5046e-01  2.8531e-02 -6.4371e-01  5.6957e-02\n",
      " -4.9754e-01 -7.1232e-03 -4.0831e-01 -3.9913e-01 -5.9560e-01 -5.8436e-01\n",
      "  8.5161e-02  3.7481e-01  8.2033e-02 -3.2318e-01  5.3241e-02 -2.1014e-01\n",
      " -6.5141e-01 -3.5154e-02  3.4920e-01 -3.9234e-01 -2.4786e-01  3.2653e-01\n",
      "  2.1577e-01  5.2755e-01  3.1510e-01 -2.2263e-02  2.1523e-01  6.7203e-01\n",
      " -1.0397e+00  4.3497e-01 -4.4110e-01  2.7610e-01  2.8093e-01 -2.2985e-01\n",
      "  9.3106e-01 -6.6438e-02 -3.6527e-03 -2.5866e-01  3.7648e-01 -5.9999e-02\n",
      "  3.5195e-01  1.7180e-01  3.0350e-01  4.1246e-01  1.0781e-01  8.8577e-02\n",
      " -1.4623e-01  1.2643e-01 -6.1314e-02 -3.8539e-01  3.6403e-01 -3.4035e-01\n",
      " -2.8176e-01  2.0283e-01  2.7596e-01  2.1271e-01  4.9904e-01 -4.1594e-01\n",
      "  3.7147e-01  3.8746e-02  3.4214e-01 -2.8433e-01  4.6909e-01  1.2884e-01\n",
      "  4.5118e-01  2.7165e-01  1.2845e-01  6.0181e-02 -2.9986e-01 -1.3163e-01\n",
      " -5.0545e-03 -2.6517e-01  7.3779e-02  4.5214e-01  1.9388e-01 -4.8094e-02\n",
      "  2.6657e-02 -4.0651e-01  4.0619e-01  1.5861e-01  3.0439e-01 -3.8564e-02\n",
      "  5.7313e-01  8.5883e-02 -4.2823e-02  5.5424e-01  2.5912e-01 -6.1782e-01\n",
      "  4.3787e-01 -1.0568e-01  2.7753e-01 -5.1190e-01 -3.8868e-01  8.7213e-01\n",
      " -5.9589e-01  3.7951e-01 -3.9029e+00 -1.8360e-01 -1.9684e-01 -3.4204e-02\n",
      " -7.3991e-01  3.5994e-01 -1.3324e-01 -5.6861e-01 -1.7419e-01  1.1807e-01\n",
      " -2.5133e-01 -1.0340e-01 -2.0820e-01 -1.8749e-01  5.0840e-01  3.8826e-01\n",
      " -1.1628e-01  1.2836e-01 -5.6899e-01 -3.5316e-01 -2.5602e-01  4.1457e-02\n",
      "  2.1042e-01 -2.1404e-02 -9.8167e-02  1.3417e-01 -6.5429e-01 -2.4291e-01\n",
      " -4.0966e-01 -7.9945e-01  3.2194e-01  3.8912e-01 -8.3004e-02  5.7201e-01\n",
      "  1.1113e-01  5.8324e-02 -3.9064e-01 -4.4448e-02  2.2241e-01 -3.3492e-01\n",
      "  3.9287e-01  2.5871e-01 -6.0191e-02 -5.2471e-01  1.0163e-01  1.1608e-01\n",
      "  4.5695e-01 -4.5547e-01]\n"
     ]
    }
   ],
   "source": [
    "print(king_wv.shape)\n",
    "print(king_wv)"
   ]
  },
  {
   "cell_type": "markdown",
   "id": "fb0df01f",
   "metadata": {},
   "source": [
    "**Saving the model**"
   ]
  },
  {
   "cell_type": "code",
   "execution_count": 33,
   "id": "b866657f",
   "metadata": {},
   "outputs": [],
   "source": [
    "wv.save('./glove-twitter-200.kv')"
   ]
  },
  {
   "cell_type": "markdown",
   "id": "687ed00f",
   "metadata": {},
   "source": [
    "**Loading the saved model**"
   ]
  },
  {
   "cell_type": "code",
   "execution_count": 34,
   "id": "ccea3c6e",
   "metadata": {},
   "outputs": [],
   "source": [
    "from gensim.models import KeyedVectors\n",
    "wv = KeyedVectors.load(\"./glove-twitter-200.kv\")"
   ]
  },
  {
   "cell_type": "code",
   "execution_count": 35,
   "id": "26d6f116",
   "metadata": {},
   "outputs": [],
   "source": [
    "king_wv2 = wv[\"king\"]"
   ]
  },
  {
   "cell_type": "code",
   "execution_count": 36,
   "id": "48168024",
   "metadata": {},
   "outputs": [
    {
     "name": "stdout",
     "output_type": "stream",
     "text": [
      "(200,)\n",
      "[-3.1949e-01  1.0382e-01  2.4294e-01 -3.4845e-01 -2.3829e-01 -3.7200e-01\n",
      "  3.7950e-01 -3.0334e-01 -2.1441e-01 -4.9230e-01  9.8965e-02 -1.3791e-01\n",
      " -8.0118e-01  5.0410e-02  3.9894e-02  8.7262e-01  4.4222e-01 -3.2196e-01\n",
      "  6.5187e-01  1.1450e-01 -3.0635e-01  1.3293e-01 -6.8867e-03 -1.5688e-01\n",
      "  1.9338e-01 -2.8577e-01  2.6790e-01  2.4383e-01  1.5909e-02  7.6273e-02\n",
      "  5.8036e-01 -7.1514e-02  2.0632e-01 -3.0900e-01  3.0187e-01  1.2900e-01\n",
      " -1.4297e-01 -7.9204e-02  2.5754e-01 -5.9380e-01 -1.2120e-03  3.0647e-01\n",
      "  8.3300e-01 -5.4968e-02  1.3717e-01 -1.1724e-01  2.8900e-01  2.3425e-01\n",
      "  3.5452e-01  1.3312e-01 -1.4014e-01 -1.0090e+00  2.1142e-01  5.3368e-01\n",
      "  1.3168e-01 -1.3271e-01  2.5046e-01  2.8531e-02 -6.4371e-01  5.6957e-02\n",
      " -4.9754e-01 -7.1232e-03 -4.0831e-01 -3.9913e-01 -5.9560e-01 -5.8436e-01\n",
      "  8.5161e-02  3.7481e-01  8.2033e-02 -3.2318e-01  5.3241e-02 -2.1014e-01\n",
      " -6.5141e-01 -3.5154e-02  3.4920e-01 -3.9234e-01 -2.4786e-01  3.2653e-01\n",
      "  2.1577e-01  5.2755e-01  3.1510e-01 -2.2263e-02  2.1523e-01  6.7203e-01\n",
      " -1.0397e+00  4.3497e-01 -4.4110e-01  2.7610e-01  2.8093e-01 -2.2985e-01\n",
      "  9.3106e-01 -6.6438e-02 -3.6527e-03 -2.5866e-01  3.7648e-01 -5.9999e-02\n",
      "  3.5195e-01  1.7180e-01  3.0350e-01  4.1246e-01  1.0781e-01  8.8577e-02\n",
      " -1.4623e-01  1.2643e-01 -6.1314e-02 -3.8539e-01  3.6403e-01 -3.4035e-01\n",
      " -2.8176e-01  2.0283e-01  2.7596e-01  2.1271e-01  4.9904e-01 -4.1594e-01\n",
      "  3.7147e-01  3.8746e-02  3.4214e-01 -2.8433e-01  4.6909e-01  1.2884e-01\n",
      "  4.5118e-01  2.7165e-01  1.2845e-01  6.0181e-02 -2.9986e-01 -1.3163e-01\n",
      " -5.0545e-03 -2.6517e-01  7.3779e-02  4.5214e-01  1.9388e-01 -4.8094e-02\n",
      "  2.6657e-02 -4.0651e-01  4.0619e-01  1.5861e-01  3.0439e-01 -3.8564e-02\n",
      "  5.7313e-01  8.5883e-02 -4.2823e-02  5.5424e-01  2.5912e-01 -6.1782e-01\n",
      "  4.3787e-01 -1.0568e-01  2.7753e-01 -5.1190e-01 -3.8868e-01  8.7213e-01\n",
      " -5.9589e-01  3.7951e-01 -3.9029e+00 -1.8360e-01 -1.9684e-01 -3.4204e-02\n",
      " -7.3991e-01  3.5994e-01 -1.3324e-01 -5.6861e-01 -1.7419e-01  1.1807e-01\n",
      " -2.5133e-01 -1.0340e-01 -2.0820e-01 -1.8749e-01  5.0840e-01  3.8826e-01\n",
      " -1.1628e-01  1.2836e-01 -5.6899e-01 -3.5316e-01 -2.5602e-01  4.1457e-02\n",
      "  2.1042e-01 -2.1404e-02 -9.8167e-02  1.3417e-01 -6.5429e-01 -2.4291e-01\n",
      " -4.0966e-01 -7.9945e-01  3.2194e-01  3.8912e-01 -8.3004e-02  5.7201e-01\n",
      "  1.1113e-01  5.8324e-02 -3.9064e-01 -4.4448e-02  2.2241e-01 -3.3492e-01\n",
      "  3.9287e-01  2.5871e-01 -6.0191e-02 -5.2471e-01  1.0163e-01  1.1608e-01\n",
      "  4.5695e-01 -4.5547e-01]\n"
     ]
    }
   ],
   "source": [
    "print(king_wv2.shape)\n",
    "print(king_wv2)"
   ]
  },
  {
   "cell_type": "code",
   "execution_count": 37,
   "id": "9509e849",
   "metadata": {},
   "outputs": [
    {
     "data": {
      "text/plain": [
       "True"
      ]
     },
     "execution_count": 37,
     "metadata": {},
     "output_type": "execute_result"
    }
   ],
   "source": [
    "np.allclose(king_wv, king_wv2)"
   ]
  },
  {
   "cell_type": "code",
   "execution_count": 38,
   "id": "634e46f8",
   "metadata": {},
   "outputs": [
    {
     "data": {
      "text/plain": [
       "0.4747994"
      ]
     },
     "execution_count": 38,
     "metadata": {},
     "output_type": "execute_result"
    }
   ],
   "source": [
    "wv.similarity(\"apple\", \"mango\")"
   ]
  },
  {
   "cell_type": "code",
   "execution_count": 39,
   "id": "16e26939",
   "metadata": {},
   "outputs": [
    {
     "data": {
      "text/plain": [
       "0.37038416"
      ]
     },
     "execution_count": 39,
     "metadata": {},
     "output_type": "execute_result"
    }
   ],
   "source": [
    "wv.similarity(\"apple\", \"car\")"
   ]
  },
  {
   "cell_type": "code",
   "execution_count": 40,
   "id": "c267d1a4",
   "metadata": {},
   "outputs": [
    {
     "name": "stdout",
     "output_type": "stream",
     "text": [
      "'car'\t'minivan'\t0.40\n",
      "'car'\t'bicycle'\t0.47\n",
      "'car'\t'airplane'\t0.46\n",
      "'car'\t'cereal'\t0.27\n",
      "'car'\t'communism'\t0.06\n"
     ]
    }
   ],
   "source": [
    "pairs = [\n",
    "    ('car', 'minivan'),   # a minivan is a kind of car\n",
    "    ('car', 'bicycle'),   # still a wheeled vehicle\n",
    "    ('car', 'airplane'),  # ok, no wheels, but still a vehicle\n",
    "    ('car', 'cereal'),    # ... and so on\n",
    "    ('car', 'communism'),\n",
    "]\n",
    "for w1, w2 in pairs:\n",
    "    print('%r\\t%r\\t%.2f' % (w1, w2, wv.similarity(w1, w2)))"
   ]
  },
  {
   "cell_type": "code",
   "execution_count": 41,
   "id": "3949521e",
   "metadata": {},
   "outputs": [
    {
     "name": "stdout",
     "output_type": "stream",
     "text": [
      "[('truck', 0.7350814938545227), ('cars', 0.6960885524749756), ('driving', 0.6913292407989502), ('suv', 0.676577091217041), ('drove', 0.6688255667686462)]\n"
     ]
    }
   ],
   "source": [
    "print(wv.most_similar(positive=['car', 'minivan'], topn=5))"
   ]
  },
  {
   "cell_type": "code",
   "execution_count": 42,
   "id": "8be18144",
   "metadata": {},
   "outputs": [
    {
     "name": "stdout",
     "output_type": "stream",
     "text": [
      "power\n"
     ]
    }
   ],
   "source": [
    "print(wv.doesnt_match(['car', 'suv', 'truck', 'power']))"
   ]
  },
  {
   "cell_type": "markdown",
   "id": "fc1c5d2a",
   "metadata": {},
   "source": [
    "**Semantic regularities captured in word embeddings**"
   ]
  },
  {
   "cell_type": "code",
   "execution_count": 43,
   "id": "84413198",
   "metadata": {},
   "outputs": [
    {
     "data": {
      "text/plain": [
       "[('queen', 0.6820898652076721),\n",
       " ('prince', 0.5875527858734131),\n",
       " ('princess', 0.5620488524436951)]"
      ]
     },
     "execution_count": 43,
     "metadata": {},
     "output_type": "execute_result"
    }
   ],
   "source": [
    "wv.most_similar(positive=['woman', 'king'], negative=['man'], topn=3)"
   ]
  },
  {
   "cell_type": "code",
   "execution_count": 45,
   "id": "2e80625f",
   "metadata": {},
   "outputs": [
    {
     "data": {
      "text/plain": [
       "[('girl', 0.7306562662124634),\n",
       " ('queen', 0.7207666635513306),\n",
       " ('that', 0.7187841534614563)]"
      ]
     },
     "execution_count": 45,
     "metadata": {},
     "output_type": "execute_result"
    }
   ],
   "source": [
    "wv.most_similar(positive=['woman', 'king'], topn=3)"
   ]
  },
  {
   "cell_type": "code",
   "execution_count": 46,
   "id": "6b0beed6",
   "metadata": {},
   "outputs": [],
   "source": [
    "words = [\"one\", \"two\", \"male\", \"female\", \"tiger\", \"boat\", \"ship\"]"
   ]
  },
  {
   "cell_type": "code",
   "execution_count": 47,
   "id": "78b8920b",
   "metadata": {},
   "outputs": [
    {
     "data": {
      "text/plain": [
       "array([[ 1.9370046e-01,  3.3461633e+00],\n",
       "       [-6.8893260e-04,  3.3673141e+00],\n",
       "       [ 4.3337169e+00, -1.9937937e+00],\n",
       "       [ 3.4650054e+00, -1.0986946e+00],\n",
       "       [-7.7843165e-01, -4.0520594e-01],\n",
       "       [-3.7816105e+00, -1.2879575e+00],\n",
       "       [-3.4316931e+00, -1.9278258e+00]], dtype=float32)"
      ]
     },
     "execution_count": 47,
     "metadata": {},
     "output_type": "execute_result"
    }
   ],
   "source": [
    "sample_vectors = np.array([wv[word] for word in words])\n",
    "from sklearn.decomposition import PCA\n",
    "pca = PCA(n_components=2)\n",
    "result = pca.fit_transform(sample_vectors)\n",
    "result"
   ]
  },
  {
   "cell_type": "markdown",
   "id": "f6555655",
   "metadata": {},
   "source": [
    "### Visualizing these word vectors"
   ]
  },
  {
   "cell_type": "code",
   "execution_count": 48,
   "id": "32b544e3",
   "metadata": {},
   "outputs": [
    {
     "data": {
      "image/png": "[encoded data removed]",
      "text/plain": [
       "<Figure size 1200x1200 with 1 Axes>"
      ]
     },
     "metadata": {},
     "output_type": "display_data"
    }
   ],
   "source": [
    "plt.figure(figsize=(12,12))\n",
    "plt.scatter(result[:,0], result[:,1])\n",
    "for i, word in enumerate(words):\n",
    "    plt.annotate(word, xy=(result[i, 0], result[i, 1]))\n",
    "plt.show()"
   ]
  },
  {
   "cell_type": "markdown",
   "id": "cd417b6b",
   "metadata": {},
   "source": [
    "Let's train the logistic regresion  model using word vectors"
   ]
  },
  {
   "cell_type": "code",
   "execution_count": 49,
   "id": "eab313d2",
   "metadata": {},
   "outputs": [
    {
     "data": {
      "text/html": [
       "<div>\n",
       "<style scoped>\n",
       "    .dataframe tbody tr th:only-of-type {\n",
       "        vertical-align: middle;\n",
       "    }\n",
       "\n",
       "    .dataframe tbody tr th {\n",
       "        vertical-align: top;\n",
       "    }\n",
       "\n",
       "    .dataframe thead th {\n",
       "        text-align: right;\n",
       "    }\n",
       "</style>\n",
       "<table border=\"1\" class=\"dataframe\">\n",
       "  <thead>\n",
       "    <tr style=\"text-align: right;\">\n",
       "      <th></th>\n",
       "      <th>comment_text</th>\n",
       "      <th>toxic</th>\n",
       "    </tr>\n",
       "  </thead>\n",
       "  <tbody>\n",
       "    <tr>\n",
       "      <th>0</th>\n",
       "      <td>Explanation\\nWhy the edits made under my usern...</td>\n",
       "      <td>0</td>\n",
       "    </tr>\n",
       "    <tr>\n",
       "      <th>1</th>\n",
       "      <td>D'aww! He matches this background colour I'm s...</td>\n",
       "      <td>0</td>\n",
       "    </tr>\n",
       "    <tr>\n",
       "      <th>2</th>\n",
       "      <td>Hey man, I'm really not trying to edit war. It...</td>\n",
       "      <td>0</td>\n",
       "    </tr>\n",
       "    <tr>\n",
       "      <th>3</th>\n",
       "      <td>\"\\nMore\\nI can't make any real suggestions on ...</td>\n",
       "      <td>0</td>\n",
       "    </tr>\n",
       "    <tr>\n",
       "      <th>4</th>\n",
       "      <td>You, sir, are my hero. Any chance you remember...</td>\n",
       "      <td>0</td>\n",
       "    </tr>\n",
       "    <tr>\n",
       "      <th>...</th>\n",
       "      <td>...</td>\n",
       "      <td>...</td>\n",
       "    </tr>\n",
       "    <tr>\n",
       "      <th>495</th>\n",
       "      <td>Sarek of Vulcan: Unfortunately for you, you ca...</td>\n",
       "      <td>0</td>\n",
       "    </tr>\n",
       "    <tr>\n",
       "      <th>496</th>\n",
       "      <td>Keep your chin up! Darwinism was not accepted ...</td>\n",
       "      <td>0</td>\n",
       "    </tr>\n",
       "    <tr>\n",
       "      <th>497</th>\n",
       "      <td>\"\"\"Nazi filth\"\" is impolite  04:27, 20 Jan 200...</td>\n",
       "      <td>1</td>\n",
       "    </tr>\n",
       "    <tr>\n",
       "      <th>498</th>\n",
       "      <td>Interesting. I checked the other case number K...</td>\n",
       "      <td>0</td>\n",
       "    </tr>\n",
       "    <tr>\n",
       "      <th>499</th>\n",
       "      <td>The transcluded part of the GA review doesn't ...</td>\n",
       "      <td>0</td>\n",
       "    </tr>\n",
       "  </tbody>\n",
       "</table>\n",
       "<p>500 rows × 2 columns</p>\n",
       "</div>"
      ],
      "text/plain": [
       "                                          comment_text  toxic\n",
       "0    Explanation\\nWhy the edits made under my usern...      0\n",
       "1    D'aww! He matches this background colour I'm s...      0\n",
       "2    Hey man, I'm really not trying to edit war. It...      0\n",
       "3    \"\\nMore\\nI can't make any real suggestions on ...      0\n",
       "4    You, sir, are my hero. Any chance you remember...      0\n",
       "..                                                 ...    ...\n",
       "495  Sarek of Vulcan: Unfortunately for you, you ca...      0\n",
       "496  Keep your chin up! Darwinism was not accepted ...      0\n",
       "497  \"\"\"Nazi filth\"\" is impolite  04:27, 20 Jan 200...      1\n",
       "498  Interesting. I checked the other case number K...      0\n",
       "499  The transcluded part of the GA review doesn't ...      0\n",
       "\n",
       "[500 rows x 2 columns]"
      ]
     },
     "execution_count": 49,
     "metadata": {},
     "output_type": "execute_result"
    }
   ],
   "source": [
    "data = pd.read_csv(\"toxic_comments.csv\", engine=\"python\")\n",
    "data = data[[\"comment_text\", \"toxic\"]]\n",
    "data"
   ]
  },
  {
   "cell_type": "code",
   "execution_count": 50,
   "id": "161c9f85",
   "metadata": {},
   "outputs": [
    {
     "data": {
      "text/plain": [
       "toxic\n",
       "0    451\n",
       "1     49\n",
       "Name: count, dtype: int64"
      ]
     },
     "execution_count": 50,
     "metadata": {},
     "output_type": "execute_result"
    }
   ],
   "source": [
    "data[\"toxic\"].value_counts()"
   ]
  },
  {
   "cell_type": "markdown",
   "id": "48ede329",
   "metadata": {},
   "source": [
    "This dataset is use for only demonstration purpose cause there is a problem of class imbalance."
   ]
  },
  {
   "cell_type": "code",
   "execution_count": 63,
   "id": "a28cae5c",
   "metadata": {},
   "outputs": [],
   "source": [
    "def sent_vec(sent):\n",
    "    '''Returns a n dimensional vector\n",
    "       input: Tokenized Sentence\n",
    "       output: n dimensional vector\n",
    "    '''\n",
    "    vector_size = wv.vector_size\n",
    "    wv_res = np.zeros(vector_size)\n",
    "    ctr = 1\n",
    "    for w in sent:\n",
    "        if w in wv:\n",
    "            ctr += 1\n",
    "            wv_res += wv[w]\n",
    "    wv_res = wv_res/ctr # average\n",
    "    return wv_res"
   ]
  },
  {
   "cell_type": "code",
   "execution_count": 64,
   "id": "231b77c0",
   "metadata": {},
   "outputs": [],
   "source": [
    "# Creating our tokenizer function\n",
    "def spacy_tokenizer(sentence):\n",
    "    # Creating our token object, which is used to create documents with linguistic annotations.\n",
    "    doc = nlp(sentence)\n",
    "    \n",
    "    # Lemmatizing each token and converting each token into lowercase\n",
    "    tokens = [ word.lemma_.lower().strip() for word in doc ]\n",
    "\n",
    "    # Removing stop words\n",
    "    tokens = [ word for word in tokens if word not in stop_words and word not in punctuations ]\n",
    "\n",
    "    # return preprocessed list of tokens\n",
    "    return tokens"
   ]
  },
  {
   "cell_type": "code",
   "execution_count": 65,
   "id": "dc935485",
   "metadata": {},
   "outputs": [
    {
     "data": {
      "text/plain": [
       "array([ 6.43690120e-02, -8.53199980e-02, -2.80460846e-02,  1.35600715e-01,\n",
       "       -6.54114783e-03,  1.97374719e-01, -3.68564855e-01, -3.35985699e-02,\n",
       "       -3.08471572e-01,  2.09963432e-01, -8.23124159e-02, -2.86060570e-01,\n",
       "        1.28979998e-01,  1.10579575e-01, -6.67900017e-02, -1.21234289e-01,\n",
       "       -1.73258931e-01,  1.10158569e-01, -2.95640140e-01,  3.37344285e-01,\n",
       "       -1.74048564e-02, -6.06401424e-02,  4.84280007e-01, -6.10271269e-03,\n",
       "        2.59173003e-01, -1.83578284e+00, -1.34709997e-01, -2.22407997e-01,\n",
       "        3.36728577e-01,  3.42597155e-01, -1.52552711e-01, -1.83926801e-01,\n",
       "       -8.27694280e-02,  8.05742826e-02,  2.81469684e-01,  2.11611418e-01,\n",
       "       -9.69838265e-03, -2.28236431e-01, -5.93530004e-01,  1.41075709e-01,\n",
       "       -8.14394282e-01,  1.90745730e-02,  2.65285709e-01,  7.30499966e-02,\n",
       "        7.34430083e-02, -1.70661059e-01,  8.28400068e-03, -1.51109998e-01,\n",
       "        8.90838568e-02,  4.61642134e-02,  1.48132853e-02, -2.31542891e-02,\n",
       "       -2.75000291e-03,  2.94390023e-02,  2.25971005e-01,  2.25338002e-01,\n",
       "        5.35441443e-02, -1.48054285e-01,  2.54280577e-01, -4.56585671e-02,\n",
       "       -1.72622854e-01, -1.46342854e-01, -6.67847137e-02, -5.37145707e-02,\n",
       "        3.53654867e-01, -8.84471440e-02, -1.93346143e-01,  1.58369285e-01,\n",
       "       -2.85052007e-01,  6.80414247e-02, -9.40236961e-02, -1.97387430e-01,\n",
       "        1.31284143e-01, -2.42421713e-01, -1.79237859e-01,  1.25497150e-01,\n",
       "       -3.36628599e-02,  2.10691716e-01,  5.36488614e-02,  6.17143299e-04,\n",
       "        1.63570000e-01, -1.11307138e-01, -2.28342861e-01,  1.32008578e-02,\n",
       "       -1.07892542e-01,  1.42294139e-01, -3.92366860e-01, -2.12151504e-02,\n",
       "        4.23845725e-02,  4.47935289e-01,  3.29551422e-01,  3.82130013e-02,\n",
       "       -2.38064000e-01,  1.23309995e-01,  1.49330286e-01, -9.29099981e-02,\n",
       "       -1.00001429e-01, -2.45317411e-02, -4.23971415e-02, -2.90654280e-01,\n",
       "        1.86002285e-01,  2.41112144e-01, -2.69900007e-01, -4.14485511e-03,\n",
       "        1.11585915e-01,  1.23352289e-02, -2.20563149e-01,  5.24093217e-02,\n",
       "       -1.99868273e-01,  1.34395554e-01,  3.92632280e-01,  4.97371395e-02,\n",
       "        1.09504157e-01, -2.11880855e-01,  4.64051392e-02,  5.38045737e-02,\n",
       "       -1.40492857e-01,  4.29341511e-02, -1.00314572e-01,  1.58039997e-01,\n",
       "       -3.56331436e-01, -1.13288230e-01,  2.10042859e-01,  1.89348999e-01,\n",
       "       -1.64877570e-01, -2.95459865e-01,  8.02542855e-02,  1.60436850e-01,\n",
       "       -1.52475715e-01, -2.68068569e-02, -2.10910147e-01,  2.15761435e-01,\n",
       "        3.66299812e-03, -2.49305713e-01, -5.38942814e-02, -8.97866566e-02,\n",
       "       -2.35526148e-01, -3.32977165e-02, -7.07848523e-02,  6.07997179e-04,\n",
       "        4.24215852e-01, -4.64872867e-02, -2.67934293e-01,  3.18739287e-01,\n",
       "        2.30644567e-01,  4.22335709e-02,  5.18687125e-02,  1.98945429e-01,\n",
       "       -4.18811423e-01, -2.78321428e-01, -1.38855717e-01, -4.18845800e-03,\n",
       "       -4.28185708e+00,  1.66914142e-01,  1.20504290e-01, -1.75791431e-01,\n",
       "        1.87821288e-01,  3.01692816e-02,  1.28454852e-01, -3.22208856e-01,\n",
       "       -1.78776575e-01, -2.75061135e-01,  4.00004285e-01,  2.03812135e-01,\n",
       "        4.80429615e-02, -2.88735136e-01,  4.26628526e-02,  4.89442849e-02,\n",
       "       -2.15298284e-01, -1.57877146e-01,  1.72771010e-01, -1.32748287e-01,\n",
       "       -5.37942903e-02,  1.93856657e-03,  2.07734278e-01,  2.49625679e-02,\n",
       "        9.02781841e-02,  1.51670371e-01,  3.51551422e-01,  1.51406285e-01,\n",
       "       -1.08902855e-01, -2.96490003e-01,  9.93851457e-02,  1.09655572e-01,\n",
       "        3.07384284e-01,  1.16860000e-01, -1.60814290e-02,  9.17485795e-03,\n",
       "        2.15474325e-02,  1.08939999e-01,  1.16448546e-02,  2.60305711e-01,\n",
       "        9.16069986e-02,  1.33059851e-01,  2.70637144e-01, -9.42228591e-02,\n",
       "        4.65148450e-02, -5.77384293e-01,  2.50721713e-01, -3.41747174e-02])"
      ]
     },
     "execution_count": 65,
     "metadata": {},
     "output_type": "execute_result"
    }
   ],
   "source": [
    "sent_vec(\"I am a boy\")"
   ]
  },
  {
   "cell_type": "code",
   "execution_count": 58,
   "id": "e95b5536",
   "metadata": {},
   "outputs": [
    {
     "name": "stdout",
     "output_type": "stream",
     "text": [
      "{'everything', 'us', 'beyond', 'quite', 'everyone', 'sometimes', 'first', 'for', 'anyhow', 'within', 'whereafter', 'we', 'became', 'may', 'ever', 'very', 'any', 'less', 'under', 'whole', '‘s', 'otherwise', 'moreover', 'above', 'two', 'alone', 'ours', 'eleven', 'which', 'and', 'does', 'yourselves', 'toward', 'this', 'hereafter', 'up', 'therein', 'with', 'onto', 'just', 'fifty', 'amongst', 'rather', 'else', 'been', 'much', 'even', 'make', 'upon', 'a', 'nothing', 'against', 'an', 'well', 'whatever', 'often', 'perhaps', 'your', 'afterwards', 'thereafter', 'out', 'part', 'she', 'his', 'because', 'ca', 'however', 'myself', 'yet', 'herself', 'another', 'meanwhile', 'anything', 'someone', 'unless', \"'ll\", 'in', 'was', 'has', 'except', 'please', 'several', 'put', 'really', 'forty', 'three', 'their', 'thereby', 'whenever', 'across', 'only', 'on', 'whoever', 'indeed', 'ourselves', 'twenty', 'me', 'own', 'bottom', 'wherever', 'call', 'hence', '’s', 'such', 'whereby', 'amount', '‘ll', 'four', 'six', '’d', 'can', 'anyone', 'before', 'sixty', 'show', 'since', 'already', 'ten', 'thence', 'latter', 'its', 'eight', \"'re\", 'whereas', '‘ve', 'whose', 'while', 'it', 'made', 'through', 'if', 'do', 'other', 'five', 'during', \"'s\", 'mostly', 'elsewhere', '’re', 'am', 'are', 'more', 'once', 'some', 'him', 'hers', 'also', \"'d\", 'seemed', 'wherein', 'name', 'were', 'not', 'back', 'throughout', 'have', 'my', 'whence', 'both', 'should', 'give', 'various', '‘d', 'thereupon', 'her', 'empty', \"n't\", 'next', 'but', 'beforehand', 'namely', 'until', 'there', 'anywhere', 'therefore', 'where', 'what', 'being', 'when', 'who', 'them', 'go', 'mine', 'side', 'at', 'become', 'nor', 'over', 'whereupon', 'somehow', 'together', 'be', 'further', 'neither', 'again', 'among', 'of', 'whom', '’m', 'around', 'herein', 'no', 'somewhere', 'beside', 'using', 'sometime', 'many', 'still', 'then', 'formerly', 'i', 'one', 'how', 'thus', 'becomes', 'into', 'now', '‘m', 'besides', 'is', 'whither', 'themselves', 'nobody', 'from', 'seeming', 'itself', 'seems', 'could', 're', 'below', 'full', 'hereupon', 'becoming', 'hundred', 'these', 'move', 'about', 'or', 'down', 'via', 'thru', 'get', 'least', 'others', 'too', 'off', 'you', 'had', '’ve', 'latterly', 'say', 'why', \"'m\", 'whether', 'seem', 'doing', 'see', 'each', 'must', 'as', 'will', 'yours', 'serious', 'third', 'nine', 'they', 'everywhere', 'that', 'most', 'did', 'to', 'here', 'nowhere', 'same', 'every', 'by', 'never', 'top', 'those', 'enough', 'he', 'used', 'yourself', 'between', 'without', 'although', 'twelve', 'the', 'per', 'though', 'regarding', 'fifteen', 'few', 'keep', 'so', 'former', 'last', 'our', 'always', 'due', 'after', 'along', 'anyway', 'than', 'would', 'hereby', 'noone', 'might', 'none', 'towards', \"'ve\", 'either', 'n’t', 'done', '‘re', 'nevertheless', 'behind', 'all', 'cannot', '’ll', 'something', 'take', 'front', 'almost', 'himself', 'n‘t'}\n"
     ]
    }
   ],
   "source": [
    "nlp = spacy.load(\"en_core_web_sm\")\n",
    "stop_words = nlp.Defaults.stop_words\n",
    "print(stop_words)"
   ]
  },
  {
   "cell_type": "code",
   "execution_count": 59,
   "id": "33ae7579",
   "metadata": {},
   "outputs": [
    {
     "name": "stdout",
     "output_type": "stream",
     "text": [
      "!\"#$%&'()*+,-./:;<=>?@[\\]^_`{|}~\n"
     ]
    }
   ],
   "source": [
    "punctuations = string.punctuation\n",
    "print(punctuations)"
   ]
  },
  {
   "cell_type": "code",
   "execution_count": 60,
   "id": "42596c4d",
   "metadata": {},
   "outputs": [],
   "source": [
    "data['tokens'] = data['comment_text'].apply(spacy_tokenizer)"
   ]
  },
  {
   "cell_type": "code",
   "execution_count": 61,
   "id": "42c3259c",
   "metadata": {},
   "outputs": [
    {
     "data": {
      "text/html": [
       "<div>\n",
       "<style scoped>\n",
       "    .dataframe tbody tr th:only-of-type {\n",
       "        vertical-align: middle;\n",
       "    }\n",
       "\n",
       "    .dataframe tbody tr th {\n",
       "        vertical-align: top;\n",
       "    }\n",
       "\n",
       "    .dataframe thead th {\n",
       "        text-align: right;\n",
       "    }\n",
       "</style>\n",
       "<table border=\"1\" class=\"dataframe\">\n",
       "  <thead>\n",
       "    <tr style=\"text-align: right;\">\n",
       "      <th></th>\n",
       "      <th>comment_text</th>\n",
       "      <th>toxic</th>\n",
       "      <th>tokens</th>\n",
       "    </tr>\n",
       "  </thead>\n",
       "  <tbody>\n",
       "    <tr>\n",
       "      <th>0</th>\n",
       "      <td>Explanation\\nWhy the edits made under my usern...</td>\n",
       "      <td>0</td>\n",
       "      <td>[explanation, edit, username, hardcore, metall...</td>\n",
       "    </tr>\n",
       "    <tr>\n",
       "      <th>1</th>\n",
       "      <td>D'aww! He matches this background colour I'm s...</td>\n",
       "      <td>0</td>\n",
       "      <td>[d'aww, match, background, colour, seemingly, ...</td>\n",
       "    </tr>\n",
       "    <tr>\n",
       "      <th>2</th>\n",
       "      <td>Hey man, I'm really not trying to edit war. It...</td>\n",
       "      <td>0</td>\n",
       "      <td>[hey, man, try, edit, war, guy, constantly, re...</td>\n",
       "    </tr>\n",
       "    <tr>\n",
       "      <th>3</th>\n",
       "      <td>\"\\nMore\\nI can't make any real suggestions on ...</td>\n",
       "      <td>0</td>\n",
       "      <td>[real, suggestion, improvement, wonder, sectio...</td>\n",
       "    </tr>\n",
       "    <tr>\n",
       "      <th>4</th>\n",
       "      <td>You, sir, are my hero. Any chance you remember...</td>\n",
       "      <td>0</td>\n",
       "      <td>[sir, hero, chance, remember, page]</td>\n",
       "    </tr>\n",
       "  </tbody>\n",
       "</table>\n",
       "</div>"
      ],
      "text/plain": [
       "                                        comment_text  toxic  \\\n",
       "0  Explanation\\nWhy the edits made under my usern...      0   \n",
       "1  D'aww! He matches this background colour I'm s...      0   \n",
       "2  Hey man, I'm really not trying to edit war. It...      0   \n",
       "3  \"\\nMore\\nI can't make any real suggestions on ...      0   \n",
       "4  You, sir, are my hero. Any chance you remember...      0   \n",
       "\n",
       "                                              tokens  \n",
       "0  [explanation, edit, username, hardcore, metall...  \n",
       "1  [d'aww, match, background, colour, seemingly, ...  \n",
       "2  [hey, man, try, edit, war, guy, constantly, re...  \n",
       "3  [real, suggestion, improvement, wonder, sectio...  \n",
       "4                [sir, hero, chance, remember, page]  "
      ]
     },
     "execution_count": 61,
     "metadata": {},
     "output_type": "execute_result"
    }
   ],
   "source": [
    "data.head()"
   ]
  },
  {
   "cell_type": "code",
   "execution_count": 66,
   "id": "6b55bd33",
   "metadata": {},
   "outputs": [],
   "source": [
    "data['vec'] = data['tokens'].apply(sent_vec)"
   ]
  },
  {
   "cell_type": "code",
   "execution_count": 67,
   "id": "c0746a2f",
   "metadata": {},
   "outputs": [
    {
     "data": {
      "text/html": [
       "<div>\n",
       "<style scoped>\n",
       "    .dataframe tbody tr th:only-of-type {\n",
       "        vertical-align: middle;\n",
       "    }\n",
       "\n",
       "    .dataframe tbody tr th {\n",
       "        vertical-align: top;\n",
       "    }\n",
       "\n",
       "    .dataframe thead th {\n",
       "        text-align: right;\n",
       "    }\n",
       "</style>\n",
       "<table border=\"1\" class=\"dataframe\">\n",
       "  <thead>\n",
       "    <tr style=\"text-align: right;\">\n",
       "      <th></th>\n",
       "      <th>comment_text</th>\n",
       "      <th>toxic</th>\n",
       "      <th>tokens</th>\n",
       "      <th>vec</th>\n",
       "    </tr>\n",
       "  </thead>\n",
       "  <tbody>\n",
       "    <tr>\n",
       "      <th>0</th>\n",
       "      <td>Explanation\\nWhy the edits made under my usern...</td>\n",
       "      <td>0</td>\n",
       "      <td>[explanation, edit, username, hardcore, metall...</td>\n",
       "      <td>[0.04585266574507668, 0.021216620912864095, -0...</td>\n",
       "    </tr>\n",
       "    <tr>\n",
       "      <th>1</th>\n",
       "      <td>D'aww! He matches this background colour I'm s...</td>\n",
       "      <td>0</td>\n",
       "      <td>[d'aww, match, background, colour, seemingly, ...</td>\n",
       "      <td>[0.10238454558632591, -0.018367271531711925, -...</td>\n",
       "    </tr>\n",
       "    <tr>\n",
       "      <th>2</th>\n",
       "      <td>Hey man, I'm really not trying to edit war. It...</td>\n",
       "      <td>0</td>\n",
       "      <td>[hey, man, try, edit, war, guy, constantly, re...</td>\n",
       "      <td>[-0.008305295463651418, 0.16614355240017176, -...</td>\n",
       "    </tr>\n",
       "    <tr>\n",
       "      <th>3</th>\n",
       "      <td>\"\\nMore\\nI can't make any real suggestions on ...</td>\n",
       "      <td>0</td>\n",
       "      <td>[real, suggestion, improvement, wonder, sectio...</td>\n",
       "      <td>[0.059776159026092145, 0.1538898315189815, -0....</td>\n",
       "    </tr>\n",
       "    <tr>\n",
       "      <th>4</th>\n",
       "      <td>You, sir, are my hero. Any chance you remember...</td>\n",
       "      <td>0</td>\n",
       "      <td>[sir, hero, chance, remember, page]</td>\n",
       "      <td>[0.0532560000816981, 0.1469593271613121, -0.23...</td>\n",
       "    </tr>\n",
       "  </tbody>\n",
       "</table>\n",
       "</div>"
      ],
      "text/plain": [
       "                                        comment_text  toxic  \\\n",
       "0  Explanation\\nWhy the edits made under my usern...      0   \n",
       "1  D'aww! He matches this background colour I'm s...      0   \n",
       "2  Hey man, I'm really not trying to edit war. It...      0   \n",
       "3  \"\\nMore\\nI can't make any real suggestions on ...      0   \n",
       "4  You, sir, are my hero. Any chance you remember...      0   \n",
       "\n",
       "                                              tokens  \\\n",
       "0  [explanation, edit, username, hardcore, metall...   \n",
       "1  [d'aww, match, background, colour, seemingly, ...   \n",
       "2  [hey, man, try, edit, war, guy, constantly, re...   \n",
       "3  [real, suggestion, improvement, wonder, sectio...   \n",
       "4                [sir, hero, chance, remember, page]   \n",
       "\n",
       "                                                 vec  \n",
       "0  [0.04585266574507668, 0.021216620912864095, -0...  \n",
       "1  [0.10238454558632591, -0.018367271531711925, -...  \n",
       "2  [-0.008305295463651418, 0.16614355240017176, -...  \n",
       "3  [0.059776159026092145, 0.1538898315189815, -0....  \n",
       "4  [0.0532560000816981, 0.1469593271613121, -0.23...  "
      ]
     },
     "execution_count": 67,
     "metadata": {},
     "output_type": "execute_result"
    }
   ],
   "source": [
    "data.head()"
   ]
  },
  {
   "cell_type": "code",
   "execution_count": 68,
   "id": "79eac3ca",
   "metadata": {},
   "outputs": [],
   "source": [
    "X = data['vec'].to_list()\n",
    "y = data['toxic'].to_list()"
   ]
  },
  {
   "cell_type": "code",
   "execution_count": 71,
   "id": "ef12be34",
   "metadata": {},
   "outputs": [
    {
     "data": {
      "text/plain": [
       "(200,)"
      ]
     },
     "execution_count": 71,
     "metadata": {},
     "output_type": "execute_result"
    }
   ],
   "source": [
    "X[0].shape"
   ]
  },
  {
   "cell_type": "code",
   "execution_count": 72,
   "id": "f9e0372f",
   "metadata": {},
   "outputs": [],
   "source": [
    "from sklearn.model_selection import train_test_split\n",
    "X_train, X_test, y_train, y_test = train_test_split(X, y, test_size=0.2,stratify=y)"
   ]
  },
  {
   "cell_type": "code",
   "execution_count": 73,
   "id": "17d50942",
   "metadata": {},
   "outputs": [],
   "source": [
    "from sklearn.linear_model import LogisticRegression\n",
    "classifier = LogisticRegression()"
   ]
  },
  {
   "cell_type": "code",
   "execution_count": 74,
   "id": "a4c280f2",
   "metadata": {},
   "outputs": [
    {
     "data": {
      "text/html": [
       "<style>#sk-container-id-1 {color: black;}#sk-container-id-1 pre{padding: 0;}#sk-container-id-1 div.sk-toggleable {background-color: white;}#sk-container-id-1 label.sk-toggleable__label {cursor: pointer;display: block;width: 100%;margin-bottom: 0;padding: 0.3em;box-sizing: border-box;text-align: center;}#sk-container-id-1 label.sk-toggleable__label-arrow:before {content: \"▸\";float: left;margin-right: 0.25em;color: #696969;}#sk-container-id-1 label.sk-toggleable__label-arrow:hover:before {color: black;}#sk-container-id-1 div.sk-estimator:hover label.sk-toggleable__label-arrow:before {color: black;}#sk-container-id-1 div.sk-toggleable__content {max-height: 0;max-width: 0;overflow: hidden;text-align: left;background-color: #f0f8ff;}#sk-container-id-1 div.sk-toggleable__content pre {margin: 0.2em;color: black;border-radius: 0.25em;background-color: #f0f8ff;}#sk-container-id-1 input.sk-toggleable__control:checked~div.sk-toggleable__content {max-height: 200px;max-width: 100%;overflow: auto;}#sk-container-id-1 input.sk-toggleable__control:checked~label.sk-toggleable__label-arrow:before {content: \"▾\";}#sk-container-id-1 div.sk-estimator input.sk-toggleable__control:checked~label.sk-toggleable__label {background-color: #d4ebff;}#sk-container-id-1 div.sk-label input.sk-toggleable__control:checked~label.sk-toggleable__label {background-color: #d4ebff;}#sk-container-id-1 input.sk-hidden--visually {border: 0;clip: rect(1px 1px 1px 1px);clip: rect(1px, 1px, 1px, 1px);height: 1px;margin: -1px;overflow: hidden;padding: 0;position: absolute;width: 1px;}#sk-container-id-1 div.sk-estimator {font-family: monospace;background-color: #f0f8ff;border: 1px dotted black;border-radius: 0.25em;box-sizing: border-box;margin-bottom: 0.5em;}#sk-container-id-1 div.sk-estimator:hover {background-color: #d4ebff;}#sk-container-id-1 div.sk-parallel-item::after {content: \"\";width: 100%;border-bottom: 1px solid gray;flex-grow: 1;}#sk-container-id-1 div.sk-label:hover label.sk-toggleable__label {background-color: #d4ebff;}#sk-container-id-1 div.sk-serial::before {content: \"\";position: absolute;border-left: 1px solid gray;box-sizing: border-box;top: 0;bottom: 0;left: 50%;z-index: 0;}#sk-container-id-1 div.sk-serial {display: flex;flex-direction: column;align-items: center;background-color: white;padding-right: 0.2em;padding-left: 0.2em;position: relative;}#sk-container-id-1 div.sk-item {position: relative;z-index: 1;}#sk-container-id-1 div.sk-parallel {display: flex;align-items: stretch;justify-content: center;background-color: white;position: relative;}#sk-container-id-1 div.sk-item::before, #sk-container-id-1 div.sk-parallel-item::before {content: \"\";position: absolute;border-left: 1px solid gray;box-sizing: border-box;top: 0;bottom: 0;left: 50%;z-index: -1;}#sk-container-id-1 div.sk-parallel-item {display: flex;flex-direction: column;z-index: 1;position: relative;background-color: white;}#sk-container-id-1 div.sk-parallel-item:first-child::after {align-self: flex-end;width: 50%;}#sk-container-id-1 div.sk-parallel-item:last-child::after {align-self: flex-start;width: 50%;}#sk-container-id-1 div.sk-parallel-item:only-child::after {width: 0;}#sk-container-id-1 div.sk-dashed-wrapped {border: 1px dashed gray;margin: 0 0.4em 0.5em 0.4em;box-sizing: border-box;padding-bottom: 0.4em;background-color: white;}#sk-container-id-1 div.sk-label label {font-family: monospace;font-weight: bold;display: inline-block;line-height: 1.2em;}#sk-container-id-1 div.sk-label-container {text-align: center;}#sk-container-id-1 div.sk-container {/* jupyter's `normalize.less` sets `[hidden] { display: none; }` but bootstrap.min.css set `[hidden] { display: none !important; }` so we also need the `!important` here to be able to override the default hidden behavior on the sphinx rendered scikit-learn.org. See: https://github.com/scikit-learn/scikit-learn/issues/21755 */display: inline-block !important;position: relative;}#sk-container-id-1 div.sk-text-repr-fallback {display: none;}</style><div id=\"sk-container-id-1\" class=\"sk-top-container\"><div class=\"sk-text-repr-fallback\"><pre>LogisticRegression()</pre><b>In a Jupyter environment, please rerun this cell to show the HTML representation or trust the notebook. <br />On GitHub, the HTML representation is unable to render, please try loading this page with nbviewer.org.</b></div><div class=\"sk-container\" hidden><div class=\"sk-item\"><div class=\"sk-estimator sk-toggleable\"><input class=\"sk-toggleable__control sk-hidden--visually\" id=\"sk-estimator-id-1\" type=\"checkbox\" checked><label for=\"sk-estimator-id-1\" class=\"sk-toggleable__label sk-toggleable__label-arrow\">LogisticRegression</label><div class=\"sk-toggleable__content\"><pre>LogisticRegression()</pre></div></div></div></div></div>"
      ],
      "text/plain": [
       "LogisticRegression()"
      ]
     },
     "execution_count": 74,
     "metadata": {},
     "output_type": "execute_result"
    }
   ],
   "source": [
    "classifier.fit(X_train,y_train)"
   ]
  },
  {
   "cell_type": "code",
   "execution_count": 75,
   "id": "0909b9f9",
   "metadata": {},
   "outputs": [
    {
     "name": "stdout",
     "output_type": "stream",
     "text": [
      "Logistic Regression Accuracy: 0.94\n",
      "Logistic Regression Precision: 1.0\n",
      "Logistic Regression Recall: 0.4\n"
     ]
    }
   ],
   "source": [
    "from sklearn import metrics\n",
    "predicted = classifier.predict(X_test)\n",
    "print(\"Logistic Regression Accuracy:\",metrics.accuracy_score(y_test, predicted))\n",
    "print(\"Logistic Regression Precision:\",metrics.precision_score(y_test, predicted))\n",
    "print(\"Logistic Regression Recall:\",metrics.recall_score(y_test, predicted))"
   ]
  },
  {
   "cell_type": "code",
   "execution_count": null,
   "id": "c55332f8",
   "metadata": {},
   "outputs": [],
   "source": []
  }
 ],
 "metadata": {
  "kernelspec": {
   "display_name": "Python 3 (ipykernel)",
   "language": "python",
   "name": "python3"
  },
  "language_info": {
   "codemirror_mode": {
    "name": "ipython",
    "version": 3
   },
   "file_extension": ".py",
   "mimetype": "text/x-python",
   "name": "python",
   "nbconvert_exporter": "python",
   "pygments_lexer": "ipython3",
   "version": "3.11.5"
  }
 },
 "nbformat": 4,
 "nbformat_minor": 5
}
