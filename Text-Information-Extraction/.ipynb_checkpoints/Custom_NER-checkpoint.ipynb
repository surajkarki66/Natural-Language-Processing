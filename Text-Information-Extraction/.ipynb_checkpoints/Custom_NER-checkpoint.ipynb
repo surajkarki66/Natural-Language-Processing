{
 "cells": [
  {
   "cell_type": "markdown",
   "id": "e98e72fd",
   "metadata": {},
   "source": [
    "## Custom Name Entity Recognition using Spacy\n",
    "Identifying Named Entities stands out as a crucial task in Natural Language Processing (NLP), playing a pivotal role in processing data. The goal is to pinpoint and categorize significant information, such as entities, within textual data. These entities encompass words or word sequences, typically proper nouns, consistently representing a specific entity. As an example, a system for entity detection might identify the term \"NewsCatcher\" in text and label it as an \"Organization.\""
   ]
  },
  {
   "cell_type": "markdown",
   "id": "4bdb662e",
   "metadata": {},
   "source": [
    "At its core, all entity recognition systems have two steps:\n",
    "\n",
    "- Detecting the entities in text \n",
    "- Categorizing the entities into named classes"
   ]
  },
  {
   "cell_type": "markdown",
   "id": "afda842b",
   "metadata": {},
   "source": [
    "1. In the first step, NER finds where in the text an entity starts and ends using a method called inside-outside-beginning chunking.\n",
    "\n",
    "2. The second step involves putting entities into categories. These categories can change based on what you're looking for, but common ones include people, organizations, locations, time, measurements, and patterns like emails or phone numbers.\n",
    "\n",
    "While there are some rule-based approaches, most modern systems use machine learning or deep learning. Since text can be tricky with its ambiguity, like the word 'Sydney' being both a place and a person's name, these systems help make sense of it."
   ]
  },
  {
   "cell_type": "markdown",
   "id": "3b18e4fa",
   "metadata": {},
   "source": [
    "### Applications of Name Entity Recognition\n",
    "NER is like a super-smart assistant for dealing with lots of text. It's handy whenever you need the computer to quickly figure out what a bunch of text is all about. A good NER helps the computer get the gist of the subject or main idea in the text and sort documents based on how relevant they are. It's like having a fast and efficient organizer for a mountain of information!\n",
    "\n",
    "List of applications are:\n",
    "- Information Extraction And Summarization\n",
    "- Optimizing Search Engines\n",
    "- Machine Translation\n",
    "- Content Classification\n",
    "- Customer Support"
   ]
  },
  {
   "cell_type": "markdown",
   "id": "41d319bd",
   "metadata": {},
   "source": [
    "### Practical Implementation"
   ]
  },
  {
   "cell_type": "markdown",
   "id": "6b1da59a",
   "metadata": {},
   "source": [
    "**NER in Spacy**\n",
    "Think of spaCy as the quick and efficient superhero of Python for dealing with language stuff. It's really fast and comes with handy tools for understanding text. In the latest version, spaCy v3.0, it got even better with the latest and coolest tech. When you use spaCy, it automatically brings in tools like figuring out parts of speech, understanding the structure of sentences, and spotting important named entities. It's like a one-stop-shop for making sense of words!"
   ]
  },
  {
   "cell_type": "code",
   "execution_count": 1,
   "id": "35f0c769",
   "metadata": {},
   "outputs": [
    {
     "name": "stdout",
     "output_type": "stream",
     "text": [
      "Collecting en-core-web-lg==3.7.1\n",
      "  Downloading https://github.com/explosion/spacy-models/releases/download/en_core_web_lg-3.7.1/en_core_web_lg-3.7.1-py3-none-any.whl (587.7 MB)\n",
      "\u001b[2K     \u001b[38;2;114;156;31m━━━━━━━━━━━━━━━━━━━━━━━━━━━━━━━━━━━━━━━━\u001b[0m \u001b[32m587.7/587.7 MB\u001b[0m \u001b[31m?\u001b[0m eta \u001b[36m0:00:00\u001b[0mB/s\u001b[0m eta \u001b[36m0:00:01\u001b[0m[36m0:00:02\u001b[0m\n",
      "\u001b[?25hRequirement already satisfied: spacy<3.8.0,>=3.7.2 in /home/surajkarki/anaconda3/lib/python3.11/site-packages (from en-core-web-lg==3.7.1) (3.7.2)\n",
      "Requirement already satisfied: spacy-legacy<3.1.0,>=3.0.11 in /home/surajkarki/anaconda3/lib/python3.11/site-packages (from spacy<3.8.0,>=3.7.2->en-core-web-lg==3.7.1) (3.0.12)\n",
      "Requirement already satisfied: spacy-loggers<2.0.0,>=1.0.0 in /home/surajkarki/anaconda3/lib/python3.11/site-packages (from spacy<3.8.0,>=3.7.2->en-core-web-lg==3.7.1) (1.0.5)\n",
      "Requirement already satisfied: murmurhash<1.1.0,>=0.28.0 in /home/surajkarki/anaconda3/lib/python3.11/site-packages (from spacy<3.8.0,>=3.7.2->en-core-web-lg==3.7.1) (1.0.10)\n",
      "Requirement already satisfied: cymem<2.1.0,>=2.0.2 in /home/surajkarki/anaconda3/lib/python3.11/site-packages (from spacy<3.8.0,>=3.7.2->en-core-web-lg==3.7.1) (2.0.8)\n",
      "Requirement already satisfied: preshed<3.1.0,>=3.0.2 in /home/surajkarki/anaconda3/lib/python3.11/site-packages (from spacy<3.8.0,>=3.7.2->en-core-web-lg==3.7.1) (3.0.9)\n",
      "Requirement already satisfied: thinc<8.3.0,>=8.1.8 in /home/surajkarki/anaconda3/lib/python3.11/site-packages (from spacy<3.8.0,>=3.7.2->en-core-web-lg==3.7.1) (8.2.2)\n",
      "Requirement already satisfied: wasabi<1.2.0,>=0.9.1 in /home/surajkarki/anaconda3/lib/python3.11/site-packages (from spacy<3.8.0,>=3.7.2->en-core-web-lg==3.7.1) (1.1.2)\n",
      "Requirement already satisfied: srsly<3.0.0,>=2.4.3 in /home/surajkarki/anaconda3/lib/python3.11/site-packages (from spacy<3.8.0,>=3.7.2->en-core-web-lg==3.7.1) (2.4.8)\n",
      "Requirement already satisfied: catalogue<2.1.0,>=2.0.6 in /home/surajkarki/anaconda3/lib/python3.11/site-packages (from spacy<3.8.0,>=3.7.2->en-core-web-lg==3.7.1) (2.0.10)\n",
      "Requirement already satisfied: weasel<0.4.0,>=0.1.0 in /home/surajkarki/anaconda3/lib/python3.11/site-packages (from spacy<3.8.0,>=3.7.2->en-core-web-lg==3.7.1) (0.3.4)\n",
      "Requirement already satisfied: typer<0.10.0,>=0.3.0 in /home/surajkarki/anaconda3/lib/python3.11/site-packages (from spacy<3.8.0,>=3.7.2->en-core-web-lg==3.7.1) (0.9.0)\n",
      "Requirement already satisfied: smart-open<7.0.0,>=5.2.1 in /home/surajkarki/anaconda3/lib/python3.11/site-packages (from spacy<3.8.0,>=3.7.2->en-core-web-lg==3.7.1) (5.2.1)\n",
      "Requirement already satisfied: tqdm<5.0.0,>=4.38.0 in /home/surajkarki/anaconda3/lib/python3.11/site-packages (from spacy<3.8.0,>=3.7.2->en-core-web-lg==3.7.1) (4.65.0)\n",
      "Requirement already satisfied: requests<3.0.0,>=2.13.0 in /home/surajkarki/anaconda3/lib/python3.11/site-packages (from spacy<3.8.0,>=3.7.2->en-core-web-lg==3.7.1) (2.31.0)\n",
      "Requirement already satisfied: pydantic!=1.8,!=1.8.1,<3.0.0,>=1.7.4 in /home/surajkarki/.local/lib/python3.11/site-packages (from spacy<3.8.0,>=3.7.2->en-core-web-lg==3.7.1) (2.5.3)\n",
      "Requirement already satisfied: jinja2 in /home/surajkarki/anaconda3/lib/python3.11/site-packages (from spacy<3.8.0,>=3.7.2->en-core-web-lg==3.7.1) (3.1.2)\n",
      "Requirement already satisfied: setuptools in /home/surajkarki/.local/lib/python3.11/site-packages (from spacy<3.8.0,>=3.7.2->en-core-web-lg==3.7.1) (69.0.3)\n",
      "Requirement already satisfied: packaging>=20.0 in /home/surajkarki/anaconda3/lib/python3.11/site-packages (from spacy<3.8.0,>=3.7.2->en-core-web-lg==3.7.1) (23.1)\n",
      "Requirement already satisfied: langcodes<4.0.0,>=3.2.0 in /home/surajkarki/anaconda3/lib/python3.11/site-packages (from spacy<3.8.0,>=3.7.2->en-core-web-lg==3.7.1) (3.3.0)\n",
      "Requirement already satisfied: numpy>=1.19.0 in /home/surajkarki/anaconda3/lib/python3.11/site-packages (from spacy<3.8.0,>=3.7.2->en-core-web-lg==3.7.1) (1.23.5)\n",
      "Requirement already satisfied: annotated-types>=0.4.0 in /home/surajkarki/.local/lib/python3.11/site-packages (from pydantic!=1.8,!=1.8.1,<3.0.0,>=1.7.4->spacy<3.8.0,>=3.7.2->en-core-web-lg==3.7.1) (0.6.0)\n",
      "Requirement already satisfied: pydantic-core==2.14.6 in /home/surajkarki/.local/lib/python3.11/site-packages (from pydantic!=1.8,!=1.8.1,<3.0.0,>=1.7.4->spacy<3.8.0,>=3.7.2->en-core-web-lg==3.7.1) (2.14.6)\n",
      "Requirement already satisfied: typing-extensions>=4.6.1 in /home/surajkarki/anaconda3/lib/python3.11/site-packages (from pydantic!=1.8,!=1.8.1,<3.0.0,>=1.7.4->spacy<3.8.0,>=3.7.2->en-core-web-lg==3.7.1) (4.7.1)\n",
      "Requirement already satisfied: charset-normalizer<4,>=2 in /home/surajkarki/anaconda3/lib/python3.11/site-packages (from requests<3.0.0,>=2.13.0->spacy<3.8.0,>=3.7.2->en-core-web-lg==3.7.1) (2.0.4)\n",
      "Requirement already satisfied: idna<4,>=2.5 in /home/surajkarki/anaconda3/lib/python3.11/site-packages (from requests<3.0.0,>=2.13.0->spacy<3.8.0,>=3.7.2->en-core-web-lg==3.7.1) (3.4)\n",
      "Requirement already satisfied: urllib3<3,>=1.21.1 in /home/surajkarki/anaconda3/lib/python3.11/site-packages (from requests<3.0.0,>=2.13.0->spacy<3.8.0,>=3.7.2->en-core-web-lg==3.7.1) (1.26.6)\n",
      "Requirement already satisfied: certifi>=2017.4.17 in /home/surajkarki/anaconda3/lib/python3.11/site-packages (from requests<3.0.0,>=2.13.0->spacy<3.8.0,>=3.7.2->en-core-web-lg==3.7.1) (2023.7.22)\n",
      "Requirement already satisfied: blis<0.8.0,>=0.7.8 in /home/surajkarki/anaconda3/lib/python3.11/site-packages (from thinc<8.3.0,>=8.1.8->spacy<3.8.0,>=3.7.2->en-core-web-lg==3.7.1) (0.7.11)\n",
      "Requirement already satisfied: confection<1.0.0,>=0.0.1 in /home/surajkarki/anaconda3/lib/python3.11/site-packages (from thinc<8.3.0,>=8.1.8->spacy<3.8.0,>=3.7.2->en-core-web-lg==3.7.1) (0.1.4)\n",
      "Requirement already satisfied: click<9.0.0,>=7.1.1 in /home/surajkarki/anaconda3/lib/python3.11/site-packages (from typer<0.10.0,>=0.3.0->spacy<3.8.0,>=3.7.2->en-core-web-lg==3.7.1) (8.0.4)\n",
      "Requirement already satisfied: cloudpathlib<0.17.0,>=0.7.0 in /home/surajkarki/anaconda3/lib/python3.11/site-packages (from weasel<0.4.0,>=0.1.0->spacy<3.8.0,>=3.7.2->en-core-web-lg==3.7.1) (0.16.0)\n",
      "Requirement already satisfied: MarkupSafe>=2.0 in /home/surajkarki/anaconda3/lib/python3.11/site-packages (from jinja2->spacy<3.8.0,>=3.7.2->en-core-web-lg==3.7.1) (2.1.1)\n",
      "Installing collected packages: en-core-web-lg\n",
      "Successfully installed en-core-web-lg-3.7.1\n",
      "\u001b[38;5;2m✔ Download and installation successful\u001b[0m\n",
      "You can now load the package via spacy.load('en_core_web_lg')\n"
     ]
    }
   ],
   "source": [
    "!python -m spacy download en_core_web_lg"
   ]
  },
  {
   "cell_type": "markdown",
   "id": "1c03c095",
   "metadata": {},
   "source": [
    "#### 1. Imports"
   ]
  },
  {
   "cell_type": "code",
   "execution_count": 19,
   "id": "e800559e",
   "metadata": {},
   "outputs": [
    {
     "name": "stdout",
     "output_type": "stream",
     "text": [
      "['tok2vec', 'tagger', 'parser', 'attribute_ruler', 'lemmatizer', 'ner']\n"
     ]
    }
   ],
   "source": [
    "import spacy\n",
    "import json\n",
    "\n",
    "nlp = spacy.load(\"en_core_web_lg\")\n",
    "\n",
    "print(nlp.pipe_names)"
   ]
  },
  {
   "cell_type": "code",
   "execution_count": 14,
   "id": "8d013f3c",
   "metadata": {},
   "outputs": [
    {
     "name": "stdout",
     "output_type": "stream",
     "text": [
      "Samantha loves her cozy home in Green Valley. Every morning, she sips hot cocoa on her favorite blue couch and chats with her best friend, Benny the Bunny. Outside, the sun shines on tall trees, and birds sing sweet melodies. In the evening, Samantha and Benny enjoy tasty carrot snacks together. Life in Green Valley is simple and joyful, filled with warmth and friendship.\n",
      "<class 'spacy.tokens.doc.Doc'>\n"
     ]
    }
   ],
   "source": [
    "text = \"Samantha loves her cozy home in Green Valley. Every morning, she sips hot cocoa on her favorite blue couch and chats with her best friend, Benny the Bunny. Outside, the sun shines on tall trees, and birds sing sweet melodies. In the evening, Samantha and Benny enjoy tasty carrot snacks together. Life in Green Valley is simple and joyful, filled with warmth and friendship.\"\n",
    "doc = nlp(text)\n",
    "print(doc)\n",
    "print(type(doc))"
   ]
  },
  {
   "cell_type": "code",
   "execution_count": 15,
   "id": "d82038b9",
   "metadata": {},
   "outputs": [
    {
     "name": "stdout",
     "output_type": "stream",
     "text": [
      "(Samantha, Green Valley, Every morning, Benny the Bunny, Samantha, Benny, Green Valley)\n"
     ]
    }
   ],
   "source": [
    "# entities\n",
    "print(doc.ents)"
   ]
  },
  {
   "cell_type": "code",
   "execution_count": 16,
   "id": "4058cd18",
   "metadata": {},
   "outputs": [
    {
     "name": "stdout",
     "output_type": "stream",
     "text": [
      "<class 'tuple'>\n"
     ]
    }
   ],
   "source": [
    "print(type(doc.ents))"
   ]
  },
  {
   "cell_type": "code",
   "execution_count": 17,
   "id": "53c46b5d",
   "metadata": {},
   "outputs": [
    {
     "name": "stdout",
     "output_type": "stream",
     "text": [
      "Samantha\n",
      "<class 'spacy.tokens.span.Span'>\n"
     ]
    }
   ],
   "source": [
    "print(doc.ents[0], type(doc.ents[0]), sep=\"\\n\")"
   ]
  },
  {
   "cell_type": "code",
   "execution_count": 18,
   "id": "9d8ebe3c",
   "metadata": {},
   "outputs": [
    {
     "data": {
      "text/html": [
       "<span class=\"tex2jax_ignore\"><div class=\"entities\" style=\"line-height: 2.5; direction: ltr\">\n",
       "<mark class=\"entity\" style=\"background: #aa9cfc; padding: 0.45em 0.6em; margin: 0 0.25em; line-height: 1; border-radius: 0.35em;\">\n",
       "    Samantha\n",
       "    <span style=\"font-size: 0.8em; font-weight: bold; line-height: 1; border-radius: 0.35em; vertical-align: middle; margin-left: 0.5rem\">PERSON</span>\n",
       "</mark>\n",
       " loves her cozy home in \n",
       "<mark class=\"entity\" style=\"background: #ff9561; padding: 0.45em 0.6em; margin: 0 0.25em; line-height: 1; border-radius: 0.35em;\">\n",
       "    Green Valley\n",
       "    <span style=\"font-size: 0.8em; font-weight: bold; line-height: 1; border-radius: 0.35em; vertical-align: middle; margin-left: 0.5rem\">LOC</span>\n",
       "</mark>\n",
       ". \n",
       "<mark class=\"entity\" style=\"background: #bfe1d9; padding: 0.45em 0.6em; margin: 0 0.25em; line-height: 1; border-radius: 0.35em;\">\n",
       "    Every morning\n",
       "    <span style=\"font-size: 0.8em; font-weight: bold; line-height: 1; border-radius: 0.35em; vertical-align: middle; margin-left: 0.5rem\">TIME</span>\n",
       "</mark>\n",
       ", she sips hot cocoa on her favorite blue couch and chats with her best friend, \n",
       "<mark class=\"entity\" style=\"background: #aa9cfc; padding: 0.45em 0.6em; margin: 0 0.25em; line-height: 1; border-radius: 0.35em;\">\n",
       "    Benny the Bunny\n",
       "    <span style=\"font-size: 0.8em; font-weight: bold; line-height: 1; border-radius: 0.35em; vertical-align: middle; margin-left: 0.5rem\">PERSON</span>\n",
       "</mark>\n",
       ". Outside, the sun shines on tall trees, and birds sing sweet melodies. In the evening, \n",
       "<mark class=\"entity\" style=\"background: #aa9cfc; padding: 0.45em 0.6em; margin: 0 0.25em; line-height: 1; border-radius: 0.35em;\">\n",
       "    Samantha\n",
       "    <span style=\"font-size: 0.8em; font-weight: bold; line-height: 1; border-radius: 0.35em; vertical-align: middle; margin-left: 0.5rem\">PERSON</span>\n",
       "</mark>\n",
       " and \n",
       "<mark class=\"entity\" style=\"background: #aa9cfc; padding: 0.45em 0.6em; margin: 0 0.25em; line-height: 1; border-radius: 0.35em;\">\n",
       "    Benny\n",
       "    <span style=\"font-size: 0.8em; font-weight: bold; line-height: 1; border-radius: 0.35em; vertical-align: middle; margin-left: 0.5rem\">PERSON</span>\n",
       "</mark>\n",
       " enjoy tasty carrot snacks together. Life in \n",
       "<mark class=\"entity\" style=\"background: #feca74; padding: 0.45em 0.6em; margin: 0 0.25em; line-height: 1; border-radius: 0.35em;\">\n",
       "    Green Valley\n",
       "    <span style=\"font-size: 0.8em; font-weight: bold; line-height: 1; border-radius: 0.35em; vertical-align: middle; margin-left: 0.5rem\">GPE</span>\n",
       "</mark>\n",
       " is simple and joyful, filled with warmth and friendship.</div></span>"
      ],
      "text/plain": [
       "<IPython.core.display.HTML object>"
      ]
     },
     "metadata": {},
     "output_type": "display_data"
    }
   ],
   "source": [
    "from spacy import displacy\n",
    "displacy.render(doc, style=\"ent\", jupyter=True)"
   ]
  },
  {
   "cell_type": "markdown",
   "id": "a6be5e5e",
   "metadata": {},
   "source": [
    "#### 2. Data Loading and Processing\n",
    "The data used in this experiment is directly came from [here](https://www.kaggle.com/datasets/finalepoch/medical-ner)"
   ]
  },
  {
   "cell_type": "code",
   "execution_count": 20,
   "id": "f00cdf6c",
   "metadata": {},
   "outputs": [],
   "source": [
    "with open('./Corona2.json', 'r') as f:\n",
    "    data = json.load(f)"
   ]
  },
  {
   "cell_type": "code",
   "execution_count": 21,
   "id": "dbd2a14f",
   "metadata": {},
   "outputs": [
    {
     "data": {
      "text/plain": [
       "{'id': '18c2f619-f102-452f-ab81-d26f7e283ffe',\n",
       " 'content': \"While bismuth compounds (Pepto-Bismol) decreased the number of bowel movements in those with travelers' diarrhea, they do not decrease the length of illness.[91] Anti-motility agents like loperamide are also effective at reducing the number of stools but not the duration of disease.[8] These agents should be used only if bloody diarrhea is not present.[92]\\n\\nDiosmectite, a natural aluminomagnesium silicate clay, is effective in alleviating symptoms of acute diarrhea in children,[93] and also has some effects in chronic functional diarrhea, radiation-induced diarrhea, and chemotherapy-induced diarrhea.[45] Another absorbent agent used for the treatment of mild diarrhea is kaopectate.\\n\\nRacecadotril an antisecretory medication may be used to treat diarrhea in children and adults.[86] It has better tolerability than loperamide, as it causes less constipation and flatulence.[94]\",\n",
       " 'metadata': {},\n",
       " 'annotations': [{'id': '0825a1bf-6a6e-4fa2-be77-8d104701eaed',\n",
       "   'tag_id': 'c06bd022-6ded-44a5-8d90-f17685bb85a1',\n",
       "   'end': 371,\n",
       "   'start': 360,\n",
       "   'example_id': '18c2f619-f102-452f-ab81-d26f7e283ffe',\n",
       "   'tag_name': 'Medicine',\n",
       "   'value': 'Diosmectite',\n",
       "   'correct': None,\n",
       "   'human_annotations': [{'timestamp': '2020-03-21T00:24:32.098000Z',\n",
       "     'annotator_id': 1,\n",
       "     'tagged_token_id': '0825a1bf-6a6e-4fa2-be77-8d104701eaed',\n",
       "     'name': 'Ashpat123',\n",
       "     'reason': 'exploration'}],\n",
       "   'model_annotations': []},\n",
       "  {'id': '145f62b1-bbf5-42f1-8ad5-9c7e08337bf0',\n",
       "   'tag_id': 'c06bd022-6ded-44a5-8d90-f17685bb85a1',\n",
       "   'end': 408,\n",
       "   'start': 383,\n",
       "   'example_id': '18c2f619-f102-452f-ab81-d26f7e283ffe',\n",
       "   'tag_name': 'Medicine',\n",
       "   'value': 'aluminomagnesium silicate',\n",
       "   'correct': None,\n",
       "   'human_annotations': [{'timestamp': '2020-03-21T00:24:43.692000Z',\n",
       "     'annotator_id': 1,\n",
       "     'tagged_token_id': '145f62b1-bbf5-42f1-8ad5-9c7e08337bf0',\n",
       "     'name': 'Ashpat123',\n",
       "     'reason': 'exploration'}],\n",
       "   'model_annotations': []},\n",
       "  {'id': '243efeb2-723f-4be4-933c-fbbf7e0f9903',\n",
       "   'tag_id': '03eb3e50-d4d8-4261-a60b-fa5aee5deb4a',\n",
       "   'end': 112,\n",
       "   'start': 104,\n",
       "   'example_id': '18c2f619-f102-452f-ab81-d26f7e283ffe',\n",
       "   'tag_name': 'MedicalCondition',\n",
       "   'value': 'diarrhea',\n",
       "   'correct': None,\n",
       "   'human_annotations': [{'timestamp': '2020-03-21T00:24:09.423000Z',\n",
       "     'annotator_id': 1,\n",
       "     'tagged_token_id': '243efeb2-723f-4be4-933c-fbbf7e0f9903',\n",
       "     'name': 'Ashpat123',\n",
       "     'reason': 'exploration'}],\n",
       "   'model_annotations': []},\n",
       "  {'id': '281f49d3-879a-4409-b09e-4cfae019af16',\n",
       "   'tag_id': 'c06bd022-6ded-44a5-8d90-f17685bb85a1',\n",
       "   'end': 689,\n",
       "   'start': 679,\n",
       "   'example_id': '18c2f619-f102-452f-ab81-d26f7e283ffe',\n",
       "   'tag_name': 'Medicine',\n",
       "   'value': 'kaopectate',\n",
       "   'correct': None,\n",
       "   'human_annotations': [{'timestamp': '2020-03-21T00:25:38.366000Z',\n",
       "     'annotator_id': 1,\n",
       "     'tagged_token_id': '281f49d3-879a-4409-b09e-4cfae019af16',\n",
       "     'name': 'Ashpat123',\n",
       "     'reason': 'exploration'}],\n",
       "   'model_annotations': []},\n",
       "  {'id': '32fdf9e7-63f7-442a-8e25-f08ea4ad94d5',\n",
       "   'tag_id': 'c06bd022-6ded-44a5-8d90-f17685bb85a1',\n",
       "   'end': 23,\n",
       "   'start': 6,\n",
       "   'example_id': '18c2f619-f102-452f-ab81-d26f7e283ffe',\n",
       "   'tag_name': 'Medicine',\n",
       "   'value': 'bismuth compounds',\n",
       "   'correct': None,\n",
       "   'human_annotations': [{'timestamp': '2020-03-21T00:23:46.721000Z',\n",
       "     'annotator_id': 1,\n",
       "     'tagged_token_id': '32fdf9e7-63f7-442a-8e25-f08ea4ad94d5',\n",
       "     'name': 'Ashpat123',\n",
       "     'reason': 'exploration'}],\n",
       "   'model_annotations': []},\n",
       "  {'id': '392094d2-febf-4074-a2ca-4c0082f4e5b8',\n",
       "   'tag_id': 'c06bd022-6ded-44a5-8d90-f17685bb85a1',\n",
       "   'end': 37,\n",
       "   'start': 25,\n",
       "   'example_id': '18c2f619-f102-452f-ab81-d26f7e283ffe',\n",
       "   'tag_name': 'Medicine',\n",
       "   'value': 'Pepto-Bismol',\n",
       "   'correct': None,\n",
       "   'human_annotations': [{'timestamp': '2020-03-21T00:23:58.861000Z',\n",
       "     'annotator_id': 1,\n",
       "     'tagged_token_id': '392094d2-febf-4074-a2ca-4c0082f4e5b8',\n",
       "     'name': 'Ashpat123',\n",
       "     'reason': 'exploration'}],\n",
       "   'model_annotations': []},\n",
       "  {'id': '450b8c30-cf2e-4774-96d9-58b4160bea38',\n",
       "   'tag_id': '03eb3e50-d4d8-4261-a60b-fa5aee5deb4a',\n",
       "   'end': 470,\n",
       "   'start': 461,\n",
       "   'example_id': '18c2f619-f102-452f-ab81-d26f7e283ffe',\n",
       "   'tag_name': 'MedicalCondition',\n",
       "   'value': 'diarrhea ',\n",
       "   'correct': None,\n",
       "   'human_annotations': [],\n",
       "   'model_annotations': []},\n",
       "  {'id': '6b73f683-7130-4e16-bcc2-e3cc8cf89f4d',\n",
       "   'tag_id': 'c06bd022-6ded-44a5-8d90-f17685bb85a1',\n",
       "   'end': 589,\n",
       "   'start': 577,\n",
       "   'example_id': '18c2f619-f102-452f-ab81-d26f7e283ffe',\n",
       "   'tag_name': 'Medicine',\n",
       "   'value': 'chemotherapy',\n",
       "   'correct': None,\n",
       "   'human_annotations': [{'timestamp': '2020-03-21T00:25:24.179000Z',\n",
       "     'annotator_id': 1,\n",
       "     'tagged_token_id': '6b73f683-7130-4e16-bcc2-e3cc8cf89f4d',\n",
       "     'name': 'Ashpat123',\n",
       "     'reason': 'exploration'}],\n",
       "   'model_annotations': []},\n",
       "  {'id': '74574b7f-d535-48e1-8651-2708adcfe453',\n",
       "   'tag_id': '03eb3e50-d4d8-4261-a60b-fa5aee5deb4a',\n",
       "   'end': 865,\n",
       "   'start': 853,\n",
       "   'example_id': '18c2f619-f102-452f-ab81-d26f7e283ffe',\n",
       "   'tag_name': 'MedicalCondition',\n",
       "   'value': 'constipation',\n",
       "   'correct': None,\n",
       "   'human_annotations': [{'timestamp': '2020-03-21T00:26:31.676000Z',\n",
       "     'annotator_id': 1,\n",
       "     'tagged_token_id': '74574b7f-d535-48e1-8651-2708adcfe453',\n",
       "     'name': 'Ashpat123',\n",
       "     'reason': 'exploration'}],\n",
       "   'model_annotations': []},\n",
       "  {'id': '7572ab8e-ae99-400c-b4ab-ed46fbc9f97e',\n",
       "   'tag_id': 'c06bd022-6ded-44a5-8d90-f17685bb85a1',\n",
       "   'end': 198,\n",
       "   'start': 188,\n",
       "   'example_id': '18c2f619-f102-452f-ab81-d26f7e283ffe',\n",
       "   'tag_name': 'Medicine',\n",
       "   'value': 'loperamide',\n",
       "   'correct': None,\n",
       "   'human_annotations': [{'timestamp': '2020-03-21T00:24:17.680000Z',\n",
       "     'annotator_id': 1,\n",
       "     'tagged_token_id': '7572ab8e-ae99-400c-b4ab-ed46fbc9f97e',\n",
       "     'name': 'Ashpat123',\n",
       "     'reason': 'exploration'}],\n",
       "   'model_annotations': []},\n",
       "  {'id': '800e6c6c-0bfb-4819-a25a-34f759753457',\n",
       "   'tag_id': '03eb3e50-d4d8-4261-a60b-fa5aee5deb4a',\n",
       "   'end': 762,\n",
       "   'start': 754,\n",
       "   'example_id': '18c2f619-f102-452f-ab81-d26f7e283ffe',\n",
       "   'tag_name': 'MedicalCondition',\n",
       "   'value': 'diarrhea',\n",
       "   'correct': None,\n",
       "   'human_annotations': [{'timestamp': '2020-03-21T00:26:07.368000Z',\n",
       "     'annotator_id': 1,\n",
       "     'tagged_token_id': '800e6c6c-0bfb-4819-a25a-34f759753457',\n",
       "     'name': 'Ashpat123',\n",
       "     'reason': 'exploration'}],\n",
       "   'model_annotations': []},\n",
       "  {'id': '8214556a-7584-4d9b-86cd-5e09137ad904',\n",
       "   'tag_id': '03eb3e50-d4d8-4261-a60b-fa5aee5deb4a',\n",
       "   'end': 880,\n",
       "   'start': 870,\n",
       "   'example_id': '18c2f619-f102-452f-ab81-d26f7e283ffe',\n",
       "   'tag_name': 'MedicalCondition',\n",
       "   'value': 'flatulence',\n",
       "   'correct': None,\n",
       "   'human_annotations': [{'timestamp': '2020-03-21T00:26:41.322000Z',\n",
       "     'annotator_id': 1,\n",
       "     'tagged_token_id': '8214556a-7584-4d9b-86cd-5e09137ad904',\n",
       "     'name': 'Ashpat123',\n",
       "     'reason': 'exploration'}],\n",
       "   'model_annotations': []},\n",
       "  {'id': '98968e14-6756-4174-9d3d-7abd58b3aa34',\n",
       "   'tag_id': 'c06bd022-6ded-44a5-8d90-f17685bb85a1',\n",
       "   'end': 833,\n",
       "   'start': 823,\n",
       "   'example_id': '18c2f619-f102-452f-ab81-d26f7e283ffe',\n",
       "   'tag_name': 'Medicine',\n",
       "   'value': 'loperamide',\n",
       "   'correct': None,\n",
       "   'human_annotations': [{'timestamp': '2020-03-21T00:26:12.759000Z',\n",
       "     'annotator_id': 1,\n",
       "     'tagged_token_id': '98968e14-6756-4174-9d3d-7abd58b3aa34',\n",
       "     'name': 'Ashpat123',\n",
       "     'reason': 'exploration'}],\n",
       "   'model_annotations': []},\n",
       "  {'id': 'a0a03c7b-cfad-41ee-9f5c-f8a802475994',\n",
       "   'tag_id': '03eb3e50-d4d8-4261-a60b-fa5aee5deb4a',\n",
       "   'end': 853,\n",
       "   'start': 852,\n",
       "   'example_id': '18c2f619-f102-452f-ab81-d26f7e283ffe',\n",
       "   'tag_name': 'MedicalCondition',\n",
       "   'value': ' ',\n",
       "   'correct': None,\n",
       "   'human_annotations': [],\n",
       "   'model_annotations': []},\n",
       "  {'id': 'bfbddfd4-38aa-43a7-9366-24c95829ac8c',\n",
       "   'tag_id': '03eb3e50-d4d8-4261-a60b-fa5aee5deb4a',\n",
       "   'end': 469,\n",
       "   'start': 461,\n",
       "   'example_id': '18c2f619-f102-452f-ab81-d26f7e283ffe',\n",
       "   'tag_name': 'MedicalCondition',\n",
       "   'value': 'diarrhea',\n",
       "   'correct': None,\n",
       "   'human_annotations': [{'timestamp': '2020-03-21T00:25:06.921000Z',\n",
       "     'annotator_id': 1,\n",
       "     'tagged_token_id': 'bfbddfd4-38aa-43a7-9366-24c95829ac8c',\n",
       "     'name': 'Ashpat123',\n",
       "     'reason': 'exploration'}],\n",
       "   'model_annotations': []},\n",
       "  {'id': 'd7d68c18-0d8e-4547-a2fa-81fdcaf3080e',\n",
       "   'tag_id': '03eb3e50-d4d8-4261-a60b-fa5aee5deb4a',\n",
       "   'end': 543,\n",
       "   'start': 535,\n",
       "   'example_id': '18c2f619-f102-452f-ab81-d26f7e283ffe',\n",
       "   'tag_name': 'MedicalCondition',\n",
       "   'value': 'diarrhea',\n",
       "   'correct': None,\n",
       "   'human_annotations': [{'timestamp': '2020-03-21T00:25:12.203000Z',\n",
       "     'annotator_id': 1,\n",
       "     'tagged_token_id': 'd7d68c18-0d8e-4547-a2fa-81fdcaf3080e',\n",
       "     'name': 'Ashpat123',\n",
       "     'reason': 'exploration'}],\n",
       "   'model_annotations': []},\n",
       "  {'id': 'ee956220-42a4-4a91-b9f0-75019c4f5dd9',\n",
       "   'tag_id': 'c06bd022-6ded-44a5-8d90-f17685bb85a1',\n",
       "   'end': 704,\n",
       "   'start': 692,\n",
       "   'example_id': '18c2f619-f102-452f-ab81-d26f7e283ffe',\n",
       "   'tag_name': 'Medicine',\n",
       "   'value': 'Racecadotril',\n",
       "   'correct': None,\n",
       "   'human_annotations': [{'timestamp': '2020-03-21T00:25:56.503000Z',\n",
       "     'annotator_id': 1,\n",
       "     'tagged_token_id': 'ee956220-42a4-4a91-b9f0-75019c4f5dd9',\n",
       "     'name': 'Ashpat123',\n",
       "     'reason': 'exploration'}],\n",
       "   'model_annotations': []},\n",
       "  {'id': 'f04a6b7e-8904-405c-9301-e4543238b7a5',\n",
       "   'tag_id': '03eb3e50-d4d8-4261-a60b-fa5aee5deb4a',\n",
       "   'end': 571,\n",
       "   'start': 563,\n",
       "   'example_id': '18c2f619-f102-452f-ab81-d26f7e283ffe',\n",
       "   'tag_name': 'MedicalCondition',\n",
       "   'value': 'diarrhea',\n",
       "   'correct': None,\n",
       "   'human_annotations': [{'timestamp': '2020-03-21T00:25:18.043000Z',\n",
       "     'annotator_id': 1,\n",
       "     'tagged_token_id': 'f04a6b7e-8904-405c-9301-e4543238b7a5',\n",
       "     'name': 'Ashpat123',\n",
       "     'reason': 'exploration'}],\n",
       "   'model_annotations': []}],\n",
       " 'classifications': []}"
      ]
     },
     "execution_count": 21,
     "metadata": {},
     "output_type": "execute_result"
    }
   ],
   "source": [
    "data['examples'][0]"
   ]
  },
  {
   "cell_type": "code",
   "execution_count": 22,
   "id": "5f8a294a",
   "metadata": {},
   "outputs": [
    {
     "data": {
      "text/plain": [
       "dict_keys(['id', 'content', 'metadata', 'annotations', 'classifications'])"
      ]
     },
     "execution_count": 22,
     "metadata": {},
     "output_type": "execute_result"
    }
   ],
   "source": [
    "data['examples'][0].keys()"
   ]
  },
  {
   "cell_type": "code",
   "execution_count": 23,
   "id": "16223182",
   "metadata": {},
   "outputs": [
    {
     "data": {
      "text/plain": [
       "\"While bismuth compounds (Pepto-Bismol) decreased the number of bowel movements in those with travelers' diarrhea, they do not decrease the length of illness.[91] Anti-motility agents like loperamide are also effective at reducing the number of stools but not the duration of disease.[8] These agents should be used only if bloody diarrhea is not present.[92]\\n\\nDiosmectite, a natural aluminomagnesium silicate clay, is effective in alleviating symptoms of acute diarrhea in children,[93] and also has some effects in chronic functional diarrhea, radiation-induced diarrhea, and chemotherapy-induced diarrhea.[45] Another absorbent agent used for the treatment of mild diarrhea is kaopectate.\\n\\nRacecadotril an antisecretory medication may be used to treat diarrhea in children and adults.[86] It has better tolerability than loperamide, as it causes less constipation and flatulence.[94]\""
      ]
     },
     "execution_count": 23,
     "metadata": {},
     "output_type": "execute_result"
    }
   ],
   "source": [
    "data['examples'][0]['content']"
   ]
  },
  {
   "cell_type": "code",
   "execution_count": 24,
   "id": "cf8067bb",
   "metadata": {},
   "outputs": [
    {
     "data": {
      "text/plain": [
       "{'id': '0825a1bf-6a6e-4fa2-be77-8d104701eaed',\n",
       " 'tag_id': 'c06bd022-6ded-44a5-8d90-f17685bb85a1',\n",
       " 'end': 371,\n",
       " 'start': 360,\n",
       " 'example_id': '18c2f619-f102-452f-ab81-d26f7e283ffe',\n",
       " 'tag_name': 'Medicine',\n",
       " 'value': 'Diosmectite',\n",
       " 'correct': None,\n",
       " 'human_annotations': [{'timestamp': '2020-03-21T00:24:32.098000Z',\n",
       "   'annotator_id': 1,\n",
       "   'tagged_token_id': '0825a1bf-6a6e-4fa2-be77-8d104701eaed',\n",
       "   'name': 'Ashpat123',\n",
       "   'reason': 'exploration'}],\n",
       " 'model_annotations': []}"
      ]
     },
     "execution_count": 24,
     "metadata": {},
     "output_type": "execute_result"
    }
   ],
   "source": [
    "data['examples'][0]['annotations'][0]"
   ]
  },
  {
   "cell_type": "code",
   "execution_count": null,
   "id": "e173061c",
   "metadata": {},
   "outputs": [],
   "source": []
  }
 ],
 "metadata": {
  "kernelspec": {
   "display_name": "Python 3 (ipykernel)",
   "language": "python",
   "name": "python3"
  },
  "language_info": {
   "codemirror_mode": {
    "name": "ipython",
    "version": 3
   },
   "file_extension": ".py",
   "mimetype": "text/x-python",
   "name": "python",
   "nbconvert_exporter": "python",
   "pygments_lexer": "ipython3",
   "version": "3.11.5"
  }
 },
 "nbformat": 4,
 "nbformat_minor": 5
}
